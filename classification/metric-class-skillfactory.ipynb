{
 "cells": [
  {
   "cell_type": "markdown",
   "metadata": {},
   "source": [
    "<center><img src=\"img/skillfactorylogo.png\"></center>\n",
    "\n",
    "<h1><center>Курс \"Практический Machine Learning\"</center></h1>\n",
    "<h3><center>Шестаков Андрей</center></h3>\n",
    "<hr>\n",
    "<h2><center>Повторение метрик качества</center></h2>\n",
    "<h2><center>Метрические методы, KNN</center></h2>"
   ]
  },
  {
   "cell_type": "code",
   "execution_count": null,
   "metadata": {},
   "outputs": [],
   "source": [
    "import pandas as pd\n",
    "import numpy as np\n",
    "import matplotlib.pyplot as plt\n",
    "\n",
    "%matplotlib inline\n",
    "\n",
    "plt.style.use('ggplot')\n",
    "plt.rcParams['figure.figsize'] = (12,8)\n",
    "\n",
    "from ipywidgets import interact, IntSlider, FloatSlider"
   ]
  },
  {
   "cell_type": "markdown",
   "metadata": {},
   "source": [
    "# Небольшое повторение"
   ]
  },
  {
   "cell_type": "markdown",
   "metadata": {},
   "source": [
    "## Обобщающая способность алгоритма\n",
    "\n",
    "* Можно построить алгоритм с идеальным качеством на обучающей выборке\n",
    "* Profit???\n",
    "* Nope...\n",
    "* Важно понимать, насколько хорошо работает алгоритм на объектах, которые он ранее не видел\n",
    "\n",
    "\n",
    "* Недообучение (underfitting) – модель сильно упростила искомую зависимость\n",
    "* Переобучение (overfitting) – модель подогналась даже под шум в данных\n",
    "\n",
    "<center><img src='img/overfit.png' width=900></center>"
   ]
  },
  {
   "cell_type": "markdown",
   "metadata": {},
   "source": [
    "## Оценка обобщающей способности\n",
    "\n",
    "<center><img src='img/cv.png' width=900></center>"
   ]
  },
  {
   "cell_type": "markdown",
   "metadata": {
    "slideshow": {
     "slide_type": "slide"
    }
   },
   "source": [
    "# Меры качества классификации"
   ]
  },
  {
   "cell_type": "markdown",
   "metadata": {
    "slideshow": {
     "slide_type": "subslide"
    }
   },
   "source": [
    "## Меры качества классификации\n",
    "\n",
    "* Как правило, классификаторы выдают не просто предсказанную метку класса, но и степень уверенности в ней\n",
    "* Основные меры качества\n",
    "    * Accuracy\n",
    "    * Precision, Recall, F-measure\n",
    "    * ROC-AUC, PR-AUC Gini-index, Model-lift\n",
    "    * Log-loss"
   ]
  },
  {
   "cell_type": "markdown",
   "metadata": {
    "slideshow": {
     "slide_type": "subslide"
    }
   },
   "source": [
    "## Матрица перемешивания\n",
    "\n",
    "Матрица перемешивания $M=\\{m_{ij}\\}_{i,j=1}^{C}$ показывает количество объектов класса $с_{i}$, которые были отнесены классификатором к классу $с_{j}$.\n",
    "\n",
    "<center><img src='img/confusion.jpg'><center/>"
   ]
  },
  {
   "cell_type": "markdown",
   "metadata": {
    "slideshow": {
     "slide_type": "subslide"
    }
   },
   "source": [
    "## Матрица перемешивания (2 класса)\n",
    "\n",
    "\n",
    "<center><img src='img/binary_conf.png'></center>\n",
    "* TP (true positive) - Верное предсказание (+1)\n",
    "* FP (false positive) - Ошибка первого рода (ложная тревога)\n",
    "* FN (false negative) - Ошибка второго рода (пропуск цели)\n",
    "* TN (true negative) - Верное предсказание (-1)\n",
    "* Pos (Neg) - Общее количество +1 и -1"
   ]
  },
  {
   "cell_type": "markdown",
   "metadata": {
    "slideshow": {
     "slide_type": "subslide"
    }
   },
   "source": [
    "## Меры на основе матрицы перемешивания\n",
    "\n",
    "<center><img src='img/binary_conf.png'></center>\n",
    "\n",
    "\n",
    "* $ \\text{accuracy} = \\frac{TP + TN}{Pos+Neg}$\n",
    "* $ \\text{error rate} = 1 -\\text{accuracy}$\n",
    "* $ \\text{recall} =\\frac{TP}{TP + FN} = \\frac{TP}{Pos}$ - (полнота)\n",
    "* $ \\text{precision} =\\frac{TP}{TP + FP}$ - (точность)\n",
    "* $ \\text{F}_\\beta \\text{-score} = (1 + \\beta^2) \\cdot \\frac{\\mathrm{precision} \\cdot \\mathrm{recall}}{(\\beta^2 \\cdot \\mathrm{precision}) + \\mathrm{recall}}$\n",
    "    * почему не среднее или максимум?\n"
   ]
  },
  {
   "cell_type": "markdown",
   "metadata": {
    "slideshow": {
     "slide_type": "fragment"
    }
   },
   "source": [
    "* Можно ли посчитать эти меры для многоклассовой классификации?"
   ]
  },
  {
   "cell_type": "code",
   "execution_count": null,
   "metadata": {
    "slideshow": {
     "slide_type": "notes"
    }
   },
   "outputs": [],
   "source": [
    "from mpl_toolkits.mplot3d import Axes3D\n",
    "\n",
    "\n",
    "def demo_fscore(beta=1):\n",
    "    \n",
    "    fig = plt.figure()\n",
    "    ax = fig.gca(projection='3d')\n",
    "    \n",
    "    prec = np.linspace(0, 1, 100)\n",
    "    rec = np.linspace(0, 1, 100)\n",
    "    \n",
    "    P, R = np.meshgrid(prec, rec)\n",
    "    \n",
    "    F = (1 + beta**2) * (P*R)/((beta**2 * P) + R)\n",
    "    \n",
    "    surf = ax.plot_surface(P, R, F, cmap=plt.cm.coolwarm, alpha=0.3,\n",
    "                               linewidth=0, antialiased=False)\n",
    "\n",
    "    ax.set_zlim(-0.01, 1.01)\n",
    "    \n",
    "    ax.view_init(30,200)\n",
    "    ax.set_xlabel('precision')\n",
    "    ax.set_ylabel('recall')\n",
    "    ax.set_zlabel('F-score')\n",
    "    ax.set_title('beta = %.2f'%beta)\n",
    "\n",
    "    fig.colorbar(surf)\n",
    "    plt.show()\n",
    "    \n",
    "   "
   ]
  },
  {
   "cell_type": "code",
   "execution_count": null,
   "metadata": {
    "slideshow": {
     "slide_type": "subslide"
    }
   },
   "outputs": [],
   "source": [
    "fig = interact(demo_fscore, beta=FloatSlider(min=0.1, max=5, step=0.3, value=1))"
   ]
  },
  {
   "cell_type": "markdown",
   "metadata": {
    "slideshow": {
     "slide_type": "slide"
    }
   },
   "source": [
    "## Меры качества на основе уверенности классификатора"
   ]
  },
  {
   "cell_type": "markdown",
   "metadata": {
    "slideshow": {
     "slide_type": "subslide"
    }
   },
   "source": [
    "## ROC кривая\n",
    "\n",
    "* Выбор порога классификации - отдельная большая задача\n",
    "* Можно ли как-то обойтись без него и сравнить неколько моделей?\n",
    "\n",
    "\n",
    "* ROC кривая - показывает зависимость между TPR (верным предсказанием) и FPR (ложным срабатыванием)\n",
    "<center><img src='img/roc.png' width=400></center>\n"
   ]
  },
  {
   "cell_type": "markdown",
   "metadata": {
    "slideshow": {
     "slide_type": "subslide"
    }
   },
   "source": [
    "## ROC кривая\n",
    "\n",
    "* Классификатор $a(x)$ возвращает степень принадлежности к классу \"+1\" - score(x).\n",
    "* Упорядочим объекты по убыванию score(x)\n",
    "* Смотрим сверху вниз\n",
    "    * Если объект принадлежит классу \"+1\" - сдвиг вверх на $1/Pos$\n",
    "    * Если объект принадлежит классу \"-1\" - сдвиг вправо на $1/Neg$\n",
    "<style type=\"text/css\">\n",
    ".tg  {border-collapse:collapse;border-spacing:0;}\n",
    ".tg td{font-family:Arial, sans-serif;font-size:14px;padding:10px 5px;border-style:solid;border-width:1px;overflow:hidden;word-break:normal;}\n",
    ".tg th{font-family:Arial, sans-serif;font-size:14px;font-weight:normal;padding:10px 5px;border-style:solid;border-width:1px;overflow:hidden;word-break:normal;}\n",
    "</style>\n",
    "<table class=\"tg\">\n",
    "  <tr>\n",
    "    <th class=\"tg-031e\"><img src='img/roc1.png'></th>\n",
    "    <th class=\"tg-031e\"><img src='img/roc2.png'></th>\n",
    "  </tr>\n",
    "</table>\n",
    "\n"
   ]
  },
  {
   "cell_type": "markdown",
   "metadata": {
    "slideshow": {
     "slide_type": "subslide"
    }
   },
   "source": [
    "## Как сравнивать ROC-кривые?\n",
    "<center><img src='img/roc.png'></center>"
   ]
  },
  {
   "cell_type": "markdown",
   "metadata": {
    "slideshow": {
     "slide_type": "subslide"
    }
   },
   "source": [
    "## ROC-AUC\n",
    "* Площадь под ROC кривой\n",
    "\n",
    "* AUC$\\in[0,1]$\n",
    "    * AUC = 0.5 - случайный классификатора\n",
    "    * AUC = 1 - идеальный классификатор"
   ]
  },
  {
   "cell_type": "markdown",
   "metadata": {
    "slideshow": {
     "slide_type": "subslide"
    }
   },
   "source": [
    "## Precision-Recall Кривая\n",
    "\n",
    "* Строится аналогичным образом, но по осям Precision и Recall для разных порогов\n",
    "\n",
    "<center><img src='http://scikit-learn.org/stable/_images/sphx_glr_plot_precision_recall_001.png'></center>"
   ]
  },
  {
   "cell_type": "markdown",
   "metadata": {
    "slideshow": {
     "slide_type": "subslide"
    }
   },
   "source": [
    "## Model Lift\n",
    "\n",
    "* Редко используется при соревнованиях по ML и DA\n",
    "* Очень любят и понимают заказчики\n",
    "\n",
    "\n",
    "* Вновь упорядочим объекты по убыванию score(x)\n",
    "* Разобьем на процентили\n",
    "* Посчитаем отношение доли +1 в процентиле к доле +1 по всей выборке\n",
    "<center><img src='img/lift.png' width=700></center>\n"
   ]
  },
  {
   "cell_type": "markdown",
   "metadata": {},
   "source": [
    "# Метод Ближайших соседей"
   ]
  },
  {
   "cell_type": "markdown",
   "metadata": {
    "collapsed": true,
    "slideshow": {
     "slide_type": "subslide"
    }
   },
   "source": [
    "## Гипотеза компактности\n",
    "\n",
    "Метрические методы классификации - одни из самых простых моделей. Они основаны на гипотезе компактности - близким объектам соответствуют близкие ответы.\n"
   ]
  },
  {
   "cell_type": "markdown",
   "metadata": {
    "slideshow": {
     "slide_type": "subslide"
    }
   },
   "source": [
    "<center><img src='http://ichef-1.bbci.co.uk/news/624/cpsprodpb/13ED9/production/_87552618_fourupcomp.jpg' width=500></center>\n",
    "\n",
    "* Объекты: Семьи, индивиды\n",
    "* Признаки: Адрес проживания, почтовый индекс, популярный супермаркет... $\\rightarrow$ координаты `(lat, lon)`\n",
    "* Предскание: Раса (классификация)"
   ]
  },
  {
   "cell_type": "markdown",
   "metadata": {
    "slideshow": {
     "slide_type": "subslide"
    }
   },
   "source": [
    "<center><img src='img\\california_house.png' width=500></center>\n",
    "\n",
    "* Объекты: Недвижимость\n",
    "* Признаки: Адрес дома... $\\rightarrow$ координаты `(lat, lon)`\n",
    "* Предсказание: Стоимость дома (регрессия)"
   ]
  },
  {
   "cell_type": "markdown",
   "metadata": {
    "slideshow": {
     "slide_type": "subslide"
    }
   },
   "source": [
    "<center><img src='img\\dna_seq.png' width=900></center>\n",
    "* Объекты: Строки\n",
    "* Признаки: ??\n",
    "* Предсказание: Функциональность гена (класс)"
   ]
  },
  {
   "cell_type": "markdown",
   "metadata": {
    "slideshow": {
     "slide_type": "subslide"
    }
   },
   "source": [
    "<hr>\n",
    "<center><img src='img\\text_classify.png' width=600></center>\n",
    "* Объекты: Тексты статей, постов блогов\n",
    "* Признаки: Частоты слов\n",
    "* Предсказание: Категория текста (класс)"
   ]
  },
  {
   "cell_type": "markdown",
   "metadata": {
    "slideshow": {
     "slide_type": "slide"
    }
   },
   "source": [
    "# Меры близости\n",
    "\n",
    "* Как определить похожие объекты?\n",
    "\n",
    "* Необходимо ввести функцию расстояния (не обязательно метрику)\n",
    "\n",
    "### Самые популярные\n",
    "\n",
    "$$ d(a, b) = \\sum\\limits_{i=1}^{D}(a_i - b_i)^2 \\text{: euclidean distance} $$\n",
    "\n",
    "$$ d(a, b) = \\sum\\limits_{i=1}^{D}|a_i - b_i| \\text{: manhattan distance} $$\n",
    "\n",
    "$$ d(a, b) = 1 - \\frac{\\langle a,b \\rangle}{||a||_2\\cdot||b||_2} \\text{: cosine distance} $$\n",
    "\n"
   ]
  },
  {
   "cell_type": "markdown",
   "metadata": {
    "slideshow": {
     "slide_type": "subslide"
    }
   },
   "source": [
    "### Близость на строках\n",
    "* Расстояние Левинштейна\n",
    "Количество вставок, замен и удалений, которое необходимо сделать, чтобы получить из строки $S_1$ строку $S_2$"
   ]
  },
  {
   "cell_type": "markdown",
   "metadata": {
    "slideshow": {
     "slide_type": "subslide"
    }
   },
   "source": [
    "<center><img src='img\\levinstein_dist.png' width=400></center>"
   ]
  },
  {
   "cell_type": "markdown",
   "metadata": {
    "slideshow": {
     "slide_type": "subslide"
    }
   },
   "source": [
    "### Близость на множествах\n",
    "* Пусть объект описываеться набором категорий, слов, тегов\n",
    "    * Клиент a: {Картофель фри, биг-мак, кофе, маффин}\n",
    "    * Клиент b: {Картофель фри, сырный соус, чизбургер, кофе, пирожок}\n",
    "* Расстояние Жаккара - Jaccard distance:\n",
    "    * $$d(a,b) = 1 - \\frac{|a \\cap b|}{|a \\cup b|}$$\n",
    "    * $$d(a,b) = 1 - \\frac{2}{7} = \\frac{5}{7} $$\n",
    "* При правильном представлении данных, можно считать и косинус"
   ]
  },
  {
   "cell_type": "markdown",
   "metadata": {
    "slideshow": {
     "slide_type": "slide"
    }
   },
   "source": [
    "# Метод k ближайших соседей\n",
    "\n",
    "Вход: Обучающая выборка $X=(x_i,y_i)$, мера близости $d(\\cdot, \\cdot)$ и объект $\\tilde{x}$<br/>\n",
    "\n",
    "Найти $k$ ближайших объекта в $X$ c помощью $d(\\tilde{x},\\cdot)$ \n",
    "* (классификация) вернуть наиболее частую метку класса\n",
    "* (вероятность) вернуть долю объектов каждого из классов среди ближайших соседей\n"
   ]
  },
  {
   "cell_type": "markdown",
   "metadata": {},
   "source": [
    "<center><img src='https://upload.wikimedia.org/wikipedia/commons/thumb/e/e7/KnnClassification.svg/220px-KnnClassification.svg.png' width=400></center>"
   ]
  },
  {
   "cell_type": "markdown",
   "metadata": {},
   "source": [
    "#### Начинаем щупать kNN и sklearn!"
   ]
  },
  {
   "cell_type": "markdown",
   "metadata": {},
   "source": [
    "Попробуем kNN на игрушечном датасете"
   ]
  },
  {
   "cell_type": "code",
   "execution_count": null,
   "metadata": {},
   "outputs": [],
   "source": [
    "from sklearn.datasets import make_moons\n",
    "\n",
    "plt.style.use('ggplot')\n",
    "\n",
    "%matplotlib inline"
   ]
  },
  {
   "cell_type": "code",
   "execution_count": null,
   "metadata": {},
   "outputs": [],
   "source": [
    "X, y = make_moons(noise=0.3, random_state=123)\n",
    "plt.scatter(X[:,0], X[:,1], c=y)"
   ]
  },
  {
   "cell_type": "code",
   "execution_count": null,
   "metadata": {},
   "outputs": [],
   "source": [
    "from sklearn.neighbors import KNeighborsClassifier\n",
    "from sklearn.cross_validation import train_test_split\n",
    "\n",
    "knn = KNeighborsClassifier(n_neighbors=1, weights='uniform', metric='euclidean')\n",
    "knn.fit(X, y)"
   ]
  },
  {
   "cell_type": "code",
   "execution_count": null,
   "metadata": {},
   "outputs": [],
   "source": [
    "y_hat = knn.predict(X)"
   ]
  },
  {
   "cell_type": "code",
   "execution_count": null,
   "metadata": {},
   "outputs": [],
   "source": [
    "y_hat_proba = knn.predict_proba(X)\n",
    "y_hat_proba.shape"
   ]
  },
  {
   "cell_type": "code",
   "execution_count": null,
   "metadata": {},
   "outputs": [],
   "source": [
    "x_range = np.linspace(X.min(), X.max(), 100)\n",
    "# ОДЗ значений признаков\n",
    "\n",
    "xx1, xx2 = np.meshgrid(x_range, x_range)\n",
    "# всевозможные попарные значения признаков\n",
    "\n",
    "Y = knn.predict_proba(np.c_[xx1.ravel(), xx2.ravel()])[:,1]\n",
    "Y = Y.reshape(xx1.shape)\n",
    "\n",
    "plt.contourf(xx1, xx2, Y, alpha=0.3)\n",
    "plt.scatter(X[:,0], X[:,1],c=y)"
   ]
  },
  {
   "cell_type": "markdown",
   "metadata": {
    "slideshow": {
     "slide_type": "fragment"
    }
   },
   "source": [
    "Проблема - никак не учитывается важность соседей в зависимости от их близости!"
   ]
  },
  {
   "cell_type": "markdown",
   "metadata": {
    "slideshow": {
     "slide_type": "subslide"
    }
   },
   "source": [
    "## Взвешенный KNN\n",
    "\n",
    "* (классификация) вернуть наиболее частую метку класса c учетом веса\n",
    "* (вероятноть) вернуть долю каждого класса с учетом весов\n",
    "$$\\hat{y} = \\arg \\max\\limits_{y \\in \\{-1, 1\\}}\\sum\\limits_{j=1}^k w_{(j)} [y_{(j)} == y] $$\n",
    "\n",
    "### Варианты весов\n",
    "* $w_{(j)} = \\frac{k - j + 1}{k}$\n",
    "* $w_{(j)} = 1/d(\\tilde{x},x_{(j)})$\n",
    "* $w_{(j)} = K(\\frac{d(\\tilde{x},x_{(j)})}{h}) $\n",
    "    * $K$ - ядро, $h$ - ширина окна\n"
   ]
  },
  {
   "cell_type": "markdown",
   "metadata": {
    "slideshow": {
     "slide_type": "subslide"
    }
   },
   "source": [
    "### Ядра\n",
    "* $K(d, h) \\propto \\exp(- \\frac{d^2}{2h^2})$ - gaussian kernel\n",
    "* $K(d, h) \\propto 1 if x < d$ - tophat kernel\n",
    "* $K(d, h) \\propto 1 - \\frac{d^2}{h^2}$ - epanechnikov kernel\n",
    "* $K(d, h) \\propto \\exp(-d/h)$ - exponential kernel\n",
    "* $K(d, h) \\propto 1 - d/h if d < h$ - linear kernel\n",
    "* $K(d, h) \\propto \\cos(\\frac{\\pi d}{2h}) if x < h$ - linear kernel\n",
    "\n",
    "<center><img src='http://scikit-learn.org/stable/_images/sphx_glr_plot_kde_1d_0021.png'></center>"
   ]
  },
  {
   "cell_type": "code",
   "execution_count": null,
   "metadata": {
    "slideshow": {
     "slide_type": "skip"
    }
   },
   "outputs": [],
   "source": [
    "def plot_knn_class_kernel(k=1, prob=False, use_dist=False):\n",
    "        \n",
    "    plt.scatter(X[:,0], X[:,1], c=y)\n",
    "    plt.xlabel('$x_1$')\n",
    "    plt.ylabel('$x_2$')\n",
    "    \n",
    "    if use_dist:\n",
    "        knn = KNeighborsClassifier(n_neighbors=70, metric='minkowski', p=2, weights='distance')\n",
    "    else:\n",
    "        knn = KNeighborsClassifier(n_neighbors=k, metric='minkowski', p=2, weights='uniform')\n",
    "    knn.fit(X, y)\n",
    "    \n",
    "    x_range = np.linspace(X.min(), X.max(), 500)\n",
    "    # ОДЗ значений признаков\n",
    "\n",
    "    xx1, xx2 = np.meshgrid(x_range, x_range)\n",
    "    # всевозможные попарные значения признаков\n",
    "    if prob:\n",
    "        Y = knn.predict_proba(np.c_[xx1.ravel(), xx2.ravel()])[:,1]\n",
    "    else:\n",
    "        Y = knn.predict(np.c_[xx1.ravel(), xx2.ravel()])\n",
    "    Y = Y.reshape(xx1.shape)\n",
    "\n",
    "    plt.contourf(xx1, xx2, Y, alpha=0.3)\n",
    "    plt.scatter(X[:,0], X[:,1], c=y)\n",
    "    \n",
    "    plt.show()"
   ]
  },
  {
   "cell_type": "code",
   "execution_count": null,
   "metadata": {
    "slideshow": {
     "slide_type": "subslide"
    }
   },
   "outputs": [],
   "source": [
    "fig = interact(plot_knn_class_kernel, k=IntSlider(min=1, max=10, value=1))"
   ]
  },
  {
   "cell_type": "markdown",
   "metadata": {
    "slideshow": {
     "slide_type": "slide"
    }
   },
   "source": [
    "# Параметры vs Гиперпараметры\n",
    "\n",
    "При работе с моделями следует различать понятия **Параметр** и **Гипер-параметр**.\n",
    "\n",
    "* **Параметр** - составляющая модели, которая определяется в процессе обучения (решения оптимизационной задачи)\n",
    "    * Веса коэффициентов в модели линейной регрессии\n",
    "* **Гиперпараметр** - составляющая модели, которая задается перед началом обучения. Может регулировать некоторые свойства модели (скорость оптимизации) или ее сложность\n",
    "    * Коэффициент регуляризации в линейной регрессии\n",
    "    \n",
    "Как дела обстоят у kNN?\n"
   ]
  },
  {
   "cell_type": "markdown",
   "metadata": {
    "slideshow": {
     "slide_type": "subslide"
    }
   },
   "source": [
    "#### Гиперпараметры kNN\n",
    "\n",
    "* Число соседей\n",
    "* Функция расстояния\n",
    "* Ядро, ширина окна"
   ]
  },
  {
   "cell_type": "markdown",
   "metadata": {},
   "source": [
    "# Данные с оттоком клиентов"
   ]
  },
  {
   "cell_type": "markdown",
   "metadata": {},
   "source": [
    "Загрузите данные об оттоке клиентов через pandas."
   ]
  },
  {
   "cell_type": "code",
   "execution_count": null,
   "metadata": {
    "scrolled": true
   },
   "outputs": [],
   "source": [
    "df_churn = pd.read_csv('data/churn.csv')"
   ]
  },
  {
   "cell_type": "code",
   "execution_count": null,
   "metadata": {},
   "outputs": [],
   "source": [
    "df_churn.head().T"
   ]
  },
  {
   "cell_type": "code",
   "execution_count": null,
   "metadata": {},
   "outputs": [],
   "source": [
    "print(df_churn.shape)"
   ]
  },
  {
   "cell_type": "markdown",
   "metadata": {},
   "source": [
    "Это небольшие данные, но у них есть большие проблемы:"
   ]
  },
  {
   "cell_type": "markdown",
   "metadata": {},
   "source": [
    "#### Проблема 1: Признаки разных шкал"
   ]
  },
  {
   "cell_type": "code",
   "execution_count": null,
   "metadata": {},
   "outputs": [],
   "source": [
    "df_churn.describe(include='all').T"
   ]
  },
  {
   "cell_type": "markdown",
   "metadata": {},
   "source": [
    "#### Проблема 2: Региональные признак\n",
    "Мы можем использовать стандартную схему с OneHotEncoding:"
   ]
  },
  {
   "cell_type": "markdown",
   "metadata": {},
   "source": [
    "для каждой категории создается бинарная маска-столбец, в которой стоит `1` если значение признака равно значению соответствующей категории.\n",
    "\n",
    "Например, для признака \"порт погрзки\" создается бинарная макска из трех стобцов для каждого из портов: С, Q, S<br/>\n",
    "Если пассажир заходил на кораблю в порту Southampton, то его признаковое описание будет соответственно: `[0, 0, 1]`\n",
    "\n",
    "\n",
    "В общем виде это выглядит как-то так:\n",
    "<img src='https://i.imgur.com/mtimFxh.png'>"
   ]
  },
  {
   "cell_type": "code",
   "execution_count": null,
   "metadata": {},
   "outputs": [],
   "source": [
    "df_churn.loc[:, 'State'].nunique()"
   ]
  },
  {
   "cell_type": "code",
   "execution_count": null,
   "metadata": {},
   "outputs": [],
   "source": [
    "df_churn.State.head()"
   ]
  },
  {
   "cell_type": "markdown",
   "metadata": {},
   "source": [
    "Можно ли его как-то неявно включить в модель?"
   ]
  },
  {
   "cell_type": "markdown",
   "metadata": {},
   "source": [
    "Почитайте [тут](https://alexanderdyakonov.wordpress.com/2016/08/03/python-%D0%BA%D0%B0%D1%82%D0%B5%D0%B3%D0%BE%D1%80%D0%B8%D0%B0%D0%BB%D1%8C%D0%BD%D1%8B%D0%B5-%D0%BF%D1%80%D0%B8%D0%B7%D0%BD%D0%B0%D0%BA%D0%B8/)"
   ]
  },
  {
   "cell_type": "markdown",
   "metadata": {},
   "source": [
    "#### Проблема 3: Довольно сильный перекос классов"
   ]
  },
  {
   "cell_type": "code",
   "execution_count": null,
   "metadata": {},
   "outputs": [],
   "source": [
    "df_churn.loc[:, 'Churn?'].value_counts()"
   ]
  },
  {
   "cell_type": "markdown",
   "metadata": {},
   "source": [
    "1. Подготовим данные\n",
    "    1. Удалите ненужные признаки\n",
    "    1. Преобразуйте категориальные и бинарные признаки\n",
    "    1. Преобразуйте целевую переменную"
   ]
  },
  {
   "cell_type": "code",
   "execution_count": null,
   "metadata": {},
   "outputs": [],
   "source": [
    "def preproc(df_init):\n",
    "    df_preproc = df_init.copy()\n",
    "    \n",
    "    # Удалили признаки\n",
    "    \n",
    "    \n",
    "    # Замена бинарных признаков\n",
    "    \n",
    "    \n",
    "    # Исправление целевой переменной\n",
    "    \n",
    "    return df_preproc"
   ]
  },
  {
   "cell_type": "code",
   "execution_count": null,
   "metadata": {},
   "outputs": [],
   "source": [
    "df_preproc = df_churn.pipe(preproc)"
   ]
  },
  {
   "cell_type": "code",
   "execution_count": null,
   "metadata": {},
   "outputs": [],
   "source": [
    "X, y = df_preproc.iloc[:, :-1].values, df_preproc.iloc[:, -1].values"
   ]
  },
  {
   "cell_type": "markdown",
   "metadata": {},
   "source": [
    "Будем использовать метод отложенной выборки"
   ]
  },
  {
   "cell_type": "code",
   "execution_count": 1,
   "metadata": {},
   "outputs": [],
   "source": [
    "# Случайным образом делим на обучение и контроль\n",
    "X_train, y_train, X_test, y_test = ..."
   ]
  },
  {
   "cell_type": "code",
   "execution_count": null,
   "metadata": {},
   "outputs": [],
   "source": [
    "# Сделаем пайплайн\n",
    "# 1) Нормализатор признаков\n",
    "# 2) kNN"
   ]
  },
  {
   "cell_type": "code",
   "execution_count": null,
   "metadata": {},
   "outputs": [],
   "source": [
    "from sklearn.preprocessing import StandardScaler\n",
    "from sklearn.pipeline import Pipeline\n",
    "from sklearn.neighbors import KNeighborsClassifier\n",
    "from sklearn.model_selection import train_test_split"
   ]
  },
  {
   "cell_type": "code",
   "execution_count": null,
   "metadata": {},
   "outputs": [],
   "source": [
    "model = Pipeline([\n",
    "    ('scaler', StandardScaler()),\n",
    "    ('knn', KNeighborsClassifier(n_neighbors=5))\n",
    "])"
   ]
  },
  {
   "cell_type": "code",
   "execution_count": null,
   "metadata": {},
   "outputs": [],
   "source": [
    "model.fit(X_train, y_train)"
   ]
  },
  {
   "cell_type": "code",
   "execution_count": null,
   "metadata": {},
   "outputs": [],
   "source": [
    "y_hat = model.predict(X_test)"
   ]
  },
  {
   "cell_type": "code",
   "execution_count": null,
   "metadata": {},
   "outputs": [],
   "source": [
    "y_hat_proba = model.predict_proba(X_test, )"
   ]
  },
  {
   "cell_type": "code",
   "execution_count": null,
   "metadata": {},
   "outputs": [],
   "source": [
    "from sklearn.metrics import roc_auc_score"
   ]
  },
  {
   "cell_type": "code",
   "execution_count": null,
   "metadata": {},
   "outputs": [],
   "source": [
    "roc_auc_score(y_test, y_hat_proba[:, 1])"
   ]
  },
  {
   "cell_type": "markdown",
   "metadata": {},
   "source": [
    "Зафиксируйте все гиперпараметры, кроме количества ближайших соседей, найдите наилучшее значение\n",
    "* Пока сделаем это в цикле\n"
   ]
  },
  {
   "cell_type": "code",
   "execution_count": null,
   "metadata": {},
   "outputs": [],
   "source": [
    "scores_test = []\n",
    "scores_train = []\n",
    "\n",
    "for k in range(1, 15):\n",
    "    # Your Code Here    \n",
    "    "
   ]
  },
  {
   "cell_type": "code",
   "execution_count": null,
   "metadata": {
    "scrolled": true
   },
   "outputs": [],
   "source": [
    "plt.plot(scores_test, label='test')\n",
    "plt.plot(scores_train, label='train')\n",
    "plt.legend()"
   ]
  },
  {
   "cell_type": "markdown",
   "metadata": {},
   "source": [
    "# Дополнительная информация:\n",
    "\n",
    "\n",
    "* [Data Mining and Analysis: Fundamental Concepts and Algorithms](https://repo.palkeo.com/algo/information-retrieval/Data%20mining%20and%20analysis.pdf) Ch 22 \n",
    "* [Effective Pandas](https://github.com/TomAugspurger/effective-pandas)\n",
    "* [Про структуры для поиска соседей](https://jakevdp.github.io/blog/2013/04/29/benchmarking-nearest-neighbor-searches-in-python/)"
   ]
  }
 ],
 "metadata": {
  "anaconda-cloud": {},
  "kernelspec": {
   "display_name": "Python 2",
   "language": "python",
   "name": "python2"
  },
  "language_info": {
   "codemirror_mode": {
    "name": "ipython",
    "version": 2
   },
   "file_extension": ".py",
   "mimetype": "text/x-python",
   "name": "python",
   "nbconvert_exporter": "python",
   "pygments_lexer": "ipython2",
   "version": "2.7.15"
  },
  "nav_menu": {},
  "toc": {
   "base_numbering": 1,
   "nav_menu": {
    "height": "291px",
    "width": "252px"
   },
   "number_sections": false,
   "sideBar": true,
   "skip_h1_title": false,
   "title_cell": "Table of Contents",
   "title_sidebar": "Contents",
   "toc_cell": false,
   "toc_position": {
    "height": "calc(100% - 180px)",
    "left": "10px",
    "top": "150px",
    "width": "293px"
   },
   "toc_section_display": "block",
   "toc_window_display": true
  }
 },
 "nbformat": 4,
 "nbformat_minor": 2
}
