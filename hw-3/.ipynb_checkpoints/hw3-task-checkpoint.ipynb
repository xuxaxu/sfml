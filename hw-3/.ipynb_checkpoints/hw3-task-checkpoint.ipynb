{
 "cells": [
  {
   "cell_type": "code",
   "execution_count": 276,
   "metadata": {},
   "outputs": [],
   "source": [
    "try:\n",
    "    from sklearn.model_selection import validation_curve\n",
    "except ImportError:\n",
    "    from sklearn.learning_curve import validation_curve\n",
    "\n",
    "try:\n",
    "    from sklearn.model_selection import StratifiedKFold\n",
    "except ImportError:\n",
    "    from sklearn.cross_validation import StratifiedKFold\n",
    "from sklearn.preprocessing import StandardScaler\n",
    "from sklearn.pipeline import Pipeline\n",
    "from sklearn.metrics import roc_auc_score, roc_curve\n",
    "from sklearn.cross_validation import cross_val_score"
   ]
  },
  {
   "cell_type": "code",
   "execution_count": 98,
   "metadata": {},
   "outputs": [],
   "source": [
    "train = pd.read_csv('train.csv', index_col='_id')"
   ]
  },
  {
   "cell_type": "code",
   "execution_count": 44,
   "metadata": {},
   "outputs": [],
   "source": [
    "def category(df_input, NameCol):\n",
    "    \n",
    "    val_col = set(df_input[NameCol][df_input[NameCol].notnull()])\n",
    "    j=0\n",
    "    for i in val_col:\n",
    "        if i!=\"unknown\":\n",
    "            df_input[NameCol+'_'+i]=df_input[NameCol].map(lambda x: 1 if x == i else 0)\n",
    "        j=j+1\n",
    "    \n",
    "    df_input= df_input.drop(NameCol, axis = 1)\n",
    "    \n",
    "    return df_input"
   ]
  },
  {
   "cell_type": "code",
   "execution_count": 45,
   "metadata": {},
   "outputs": [],
   "source": [
    "def preproc_data(df_input):\n",
    "    df_output = df_input.copy()\n",
    "    \n",
    "    \n",
    "   # ранжируем, что можно\n",
    "    df_output['education']=df_output['education'].map(lambda x: 0 if x == \"illiterate\"\n",
    "                                                     else (1 if x == \"basic.4y\" \n",
    "                                                          else (2 if x == \"basic.6y\"\n",
    "                                                               else (3 if (x == \"basic.9y\" or x == \"unknown\")\n",
    "                                                                    else (4 if x == \"professional.course\"\n",
    "                                                                         else (5 if x == \"high.school\"\n",
    "                                                                              else 6))))))\n",
    "    df_output=df_output.drop('education',1)\n",
    "\n",
    "    df_output['default']=df_output['default'].map(lambda x: 1 if x == 'yes' else 0)\n",
    "    df_output = df_output.drop('default',1)\n",
    "    \n",
    "    df_output['housing']=df_output['housing'].map(lambda x: 1 if x == 'yes' else 0)\n",
    "    df_output = df_output.drop('housing',1)\n",
    "    \n",
    "    df_output['loan']=df_output['loan'].map(lambda x: 1 if x == 'yes' else 0)\n",
    "    df_output = df_output.drop('loan',1)\n",
    "    \n",
    "    df_output=df_output.fillna(value = {'duration':0})\n",
    "    df_output['duration']=df_output['duration'].map(lambda x: df_output['duration'].mean() if x == 0 else x)\n",
    "    df_output = df_output.drop('duration',1)\n",
    "    \n",
    "    df_output['poutcome']=df_output['poutcome'].map(lambda x: 10 if x ==  \"success\" else (1 if x == \"nonexistent\" else 0))\n",
    "    df_output = df_output.drop('poutcome',1)\n",
    "    \n",
    "    \n",
    "    numC = pd.Series(dtype=int)\n",
    "    for i in df_output.columns: \n",
    "        if str(df_output[i].dtype) == 'object':\n",
    "               df_output= category(df_output,i)\n",
    "        else:  # NaN в числовых колонках заполним 0\n",
    "            numC[i]=0\n",
    "    df_output=df_output.fillna(value=numC)\n",
    "    \n",
    "    return df_output"
   ]
  },
  {
   "cell_type": "code",
   "execution_count": 100,
   "metadata": {},
   "outputs": [],
   "source": [
    "trr=train.pipe(preproc_data)"
   ]
  },
  {
   "cell_type": "code",
   "execution_count": 101,
   "metadata": {},
   "outputs": [],
   "source": [
    "target = trr['target']\n",
    "trr = trr.drop('target',axis=1)"
   ]
  },
  {
   "cell_type": "code",
   "execution_count": 238,
   "metadata": {},
   "outputs": [],
   "source": [
    "from sklearn.cross_validation import train_test_split\n",
    "\n",
    "X, X_test, y, y_test = train_test_split(trr, target)"
   ]
  },
  {
   "cell_type": "code",
   "execution_count": 277,
   "metadata": {},
   "outputs": [],
   "source": [
    "from sklearn.neighbors import KNeighborsClassifier\n",
    "\n",
    "knn = Pipeline([\n",
    "    ('scaler', StandardScaler()),\n",
    "    ('knn', KNeighborsClassifier(n_neighbors=3, weights='distance'))\n",
    "])"
   ]
  },
  {
   "cell_type": "code",
   "execution_count": 229,
   "metadata": {},
   "outputs": [
    {
     "data": {
      "text/plain": [
       "array([0.77328427, 0.76184174, 0.77649976, 0.7375838 , 0.76523446,\n",
       "       0.76645392, 0.79584308, 0.74530553, 0.76486193, 0.75063592])"
      ]
     },
     "execution_count": 229,
     "metadata": {},
     "output_type": "execute_result"
    }
   ],
   "source": [
    "cross_val_score(\n",
    "    knn,\n",
    "    X,\n",
    "    y,\n",
    "    scoring='roc_auc',\n",
    "    cv=10\n",
    ")"
   ]
  },
  {
   "cell_type": "code",
   "execution_count": 278,
   "metadata": {},
   "outputs": [
    {
     "data": {
      "text/plain": [
       "0.6240394447370867"
      ]
     },
     "execution_count": 278,
     "metadata": {},
     "output_type": "execute_result"
    }
   ],
   "source": [
    "knn.fit(X,y)\n",
    "predict=knn.predict(X_test)\n",
    "ras = roc_auc_score(y_test,predict)\n",
    "ras"
   ]
  },
  {
   "cell_type": "code",
   "execution_count": 240,
   "metadata": {},
   "outputs": [
    {
     "data": {
      "text/plain": [
       "Text(0,0.5,'ROC AUC')"
      ]
     },
     "execution_count": 240,
     "metadata": {},
     "output_type": "execute_result"
    },
    {
     "data": {
      "image/png": "[encoded data removed]",
      "text/plain": [
       "<Figure size 432x288 with 1 Axes>"
      ]
     },
     "metadata": {},
     "output_type": "display_data"
    }
   ],
   "source": [
    "model = KNeighborsClassifier()\n",
    "\n",
    "cv = StratifiedKFold(n_splits=5, shuffle=True)\n",
    "\n",
    "train_scores, valid_scores = validation_curve(model, X, y, \n",
    "                                              'leaf_size', range(1, 10),\n",
    "                                              cv=cv, scoring='roc_auc')\n",
    "train_score_mean = train_scores.mean(axis=1)\n",
    "train_score_std = train_scores.std(axis=1)\n",
    "valid_scores_mean = valid_scores.mean(axis=1)\n",
    "valid_scores_std = valid_scores.std(axis=1)\n",
    "\n",
    "plt.fill_between(range(1,10), train_score_mean-train_score_std, train_score_mean+train_score_std, color='b',\n",
    "                 interpolate=True, alpha=0.5,)\n",
    "plt.fill_between(range(1,10), valid_scores_mean-valid_scores_std, valid_scores_mean+valid_scores_std, color='r', \n",
    "                 interpolate=True, alpha=0.5)\n",
    "\n",
    "plt.plot(range(1,10), train_score_mean, c='b', lw=2)\n",
    "plt.plot(range(1,10), valid_scores_mean, c='r', lw=2)\n",
    "\n",
    "plt.xlabel('leaf size')\n",
    "plt.ylabel('ROC AUC')"
   ]
  },
  {
   "cell_type": "code",
   "execution_count": 279,
   "metadata": {},
   "outputs": [],
   "source": [
    "from sklearn.tree import DecisionTreeClassifier\n",
    "from sklearn.linear_model import LogisticRegression\n",
    "\n",
    "dtc = Pipeline([\n",
    "    ('scaler', StandardScaler()),\n",
    "    ('dtc', DecisionTreeClassifier(criterion='gini',max_depth=5, min_samples_split=5, min_samples_leaf=8,max_leaf_nodes=24))\n",
    "])"
   ]
  },
  {
   "cell_type": "code",
   "execution_count": 264,
   "metadata": {},
   "outputs": [
    {
     "data": {
      "text/plain": [
       "Text(0,0.5,'ROC AUC')"
      ]
     },
     "execution_count": 264,
     "metadata": {},
     "output_type": "execute_result"
    },
    {
     "data": {
      "image/png": "[encoded data removed]",
      "text/plain": [
       "<Figure size 432x288 with 1 Axes>"
      ]
     },
     "metadata": {},
     "output_type": "display_data"
    }
   ],
   "source": [
    "\n",
    "\n",
    "model = DecisionTreeClassifier(max_depth=5)\n",
    "\n",
    "cv = StratifiedKFold(n_splits=5, shuffle=True)\n",
    "\n",
    "train_scores, valid_scores = validation_curve(model, X, y, \n",
    "                                              'max_leaf_nodes', range(10, 50),\n",
    "                                              cv=cv, scoring='roc_auc')\n",
    "train_score_mean = train_scores.mean(axis=1)\n",
    "train_score_std = train_scores.std(axis=1)\n",
    "valid_scores_mean = valid_scores.mean(axis=1)\n",
    "valid_scores_std = valid_scores.std(axis=1)\n",
    "\n",
    "plt.fill_between(range(10,50), train_score_mean-train_score_std, train_score_mean+train_score_std, color='b',\n",
    "                 interpolate=True, alpha=0.5,)\n",
    "plt.fill_between(range(10,50), valid_scores_mean-valid_scores_std, valid_scores_mean+valid_scores_std, color='r', \n",
    "                 interpolate=True, alpha=0.5)\n",
    "\n",
    "plt.plot(range(10,50), train_score_mean, c='b', lw=2)\n",
    "plt.plot(range(10,50), valid_scores_mean, c='r', lw=2)\n",
    "\n",
    "plt.xlabel('max_leaf_nodes')\n",
    "plt.ylabel('ROC AUC')"
   ]
  },
  {
   "cell_type": "code",
   "execution_count": null,
   "metadata": {},
   "outputs": [],
   "source": []
  },
  {
   "cell_type": "code",
   "execution_count": 280,
   "metadata": {},
   "outputs": [
    {
     "data": {
      "text/plain": [
       "0.6260617750648116"
      ]
     },
     "execution_count": 280,
     "metadata": {},
     "output_type": "execute_result"
    }
   ],
   "source": [
    "dtc.fit(X,y)\n",
    "predict=dtc.predict(X_test)\n",
    "ras = roc_auc_score(y_test,predict)\n",
    "ras"
   ]
  },
  {
   "cell_type": "code",
   "execution_count": 281,
   "metadata": {},
   "outputs": [],
   "source": [
    "lr = Pipeline([\n",
    "    ('scaler', StandardScaler()),\n",
    "    ('lr', LogisticRegression())])"
   ]
  },
  {
   "cell_type": "code",
   "execution_count": 282,
   "metadata": {},
   "outputs": [
    {
     "data": {
      "text/plain": [
       "0.6063879507121536"
      ]
     },
     "execution_count": 282,
     "metadata": {},
     "output_type": "execute_result"
    }
   ],
   "source": [
    "lr.fit(X,y)\n",
    "predict=lr.predict(X_test)\n",
    "ras = roc_auc_score(y_test,predict)\n",
    "ras"
   ]
  },
  {
   "cell_type": "code",
   "execution_count": null,
   "metadata": {},
   "outputs": [],
   "source": []
  },
  {
   "cell_type": "code",
   "execution_count": null,
   "metadata": {},
   "outputs": [],
   "source": []
  }
 ],
 "metadata": {
  "kernelspec": {
   "display_name": "Python 3",
   "language": "python",
   "name": "python3"
  },
  "language_info": {
   "codemirror_mode": {
    "name": "ipython",
    "version": 3
   },
   "file_extension": ".py",
   "mimetype": "text/x-python",
   "name": "python",
   "nbconvert_exporter": "python",
   "pygments_lexer": "ipython3",
   "version": "3.6.5"
  }
 },
 "nbformat": 4,
 "nbformat_minor": 2
}
