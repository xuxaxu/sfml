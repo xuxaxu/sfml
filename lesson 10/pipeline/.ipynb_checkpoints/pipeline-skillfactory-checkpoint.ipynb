{
 "cells": [
  {
   "cell_type": "markdown",
   "metadata": {
    "toc": "true"
   },
   "source": [
    "<h1>Table of Contents<span class=\"tocSkip\"></span></h1>\n",
    "<div class=\"toc\"><ul class=\"toc-item\"><li><span><a href=\"#Skillfactory---Практический-Machine-Learning\" data-toc-modified-id=\"Skillfactory---Практический-Machine-Learning-1\">Skillfactory - Практический Machine Learning</a></span><ul class=\"toc-item\"><li><span><a href=\"#04/09/2018---Аномалии,-работа-с-признаками,-пайплайны\" data-toc-modified-id=\"04/09/2018---Аномалии,-работа-с-признаками,-пайплайны-1.1\">04/09/2018 - Аномалии, работа с признаками, пайплайны</a></span></li></ul></li><li><span><a href=\"#(Де)мотивация\" data-toc-modified-id=\"(Де)мотивация-2\">(Де)мотивация</a></span><ul class=\"toc-item\"><li><ul class=\"toc-item\"><li><ul class=\"toc-item\"><li><span><a href=\"#Рассмотрим-кейс\" data-toc-modified-id=\"Рассмотрим-кейс-2.0.0.1\">Рассмотрим кейс</a></span></li></ul></li></ul></li></ul></li><li><span><a href=\"#(Anomaly-Detection)-Выявление-аномалий\" data-toc-modified-id=\"(Anomaly-Detection)-Выявление-аномалий-3\">(Anomaly Detection) Выявление аномалий</a></span><ul class=\"toc-item\"><li><span><a href=\"#Примеры-задач,-где-выявление-аномалий---сама-цель\" data-toc-modified-id=\"Примеры-задач,-где-выявление-аномалий---сама-цель-3.1\">Примеры задач, где выявление аномалий - сама цель</a></span></li><li><span><a href=\"#Moscow-Data-Science-Meetup-report\" data-toc-modified-id=\"Moscow-Data-Science-Meetup-report-3.2\"><a href=\"https://youtu.be/o5QCVyI0dSA?t=1994\" target=\"_blank\">Moscow Data Science Meetup report</a></a></span></li><li><span><a href=\"#Влияние-аномалий-в-данных-на-модели\" data-toc-modified-id=\"Влияние-аномалий-в-данных-на-модели-3.3\">Влияние аномалий в данных на модели</a></span></li><li><span><a href=\"#Подходы-к-решению\" data-toc-modified-id=\"Подходы-к-решению-3.4\">Подходы к решению</a></span><ul class=\"toc-item\"><li><span><a href=\"#Ответы-алгоритмов\" data-toc-modified-id=\"Ответы-алгоритмов-3.4.1\">Ответы алгоритмов</a></span></li></ul></li><li><span><a href=\"#Визуальный-анализ\" data-toc-modified-id=\"Визуальный-анализ-3.5\">Визуальный анализ</a></span></li><li><span><a href=\"#Методы,-основанные-на-плотности-и-расстоянии\" data-toc-modified-id=\"Методы,-основанные-на-плотности-и-расстоянии-3.6\">Методы, основанные на плотности и расстоянии</a></span></li><li><span><a href=\"#Методы-машинного-обучения\" data-toc-modified-id=\"Методы-машинного-обучения-3.7\">Методы машинного обучения</a></span><ul class=\"toc-item\"><li><span><a href=\"#Изолирующий-лес\" data-toc-modified-id=\"Изолирующий-лес-3.7.1\">Изолирующий лес</a></span></li></ul></li></ul></li><li><span><a href=\"#Дисбаланс-классов\" data-toc-modified-id=\"Дисбаланс-классов-4\">Дисбаланс классов</a></span><ul class=\"toc-item\"><li><span><a href=\"#Способы-балансировки-классов\" data-toc-modified-id=\"Способы-балансировки-классов-4.1\">Способы балансировки классов</a></span><ul class=\"toc-item\"><li><span><a href=\"#Сэмплирование\" data-toc-modified-id=\"Сэмплирование-4.1.1\">Сэмплирование</a></span></li></ul></li><li><span><a href=\"#Under-sampling\" data-toc-modified-id=\"Under-sampling-4.2\">Under-sampling</a></span></li><li><span><a href=\"#Over-sampling\" data-toc-modified-id=\"Over-sampling-4.3\">Over sampling</a></span></li><li><span><a href=\"#SMOTE\" data-toc-modified-id=\"SMOTE-4.4\">SMOTE</a></span><ul class=\"toc-item\"><li><span><a href=\"#Synthetic-Minority-Over-sampling-Technique\" data-toc-modified-id=\"Synthetic-Minority-Over-sampling-Technique-4.4.1\">Synthetic Minority Over-sampling Technique</a></span></li></ul></li><li><span><a href=\"#Ансамблевые-методы\" data-toc-modified-id=\"Ансамблевые-методы-4.5\">Ансамблевые методы</a></span><ul class=\"toc-item\"><li><span><a href=\"#Easy-Ensemble\" data-toc-modified-id=\"Easy-Ensemble-4.5.1\">Easy Ensemble</a></span></li></ul></li><li><span><a href=\"#Попробуем-сами\" data-toc-modified-id=\"Попробуем-сами-4.6\">Попробуем сами</a></span></li></ul></li><li><span><a href=\"#Пропущенные-значения\" data-toc-modified-id=\"Пропущенные-значения-5\">Пропущенные значения</a></span><ul class=\"toc-item\"><li><span><a href=\"#Наиболее-распространенные-способы-работы-с-пропусками\" data-toc-modified-id=\"Наиболее-распространенные-способы-работы-с-пропусками-5.1\">Наиболее распространенные способы работы с пропусками</a></span><ul class=\"toc-item\"><li><span><a href=\"#&quot;Визуализация&quot;-пропусков\" data-toc-modified-id=\"&quot;Визуализация&quot;-пропусков-5.1.1\">\"Визуализация\" пропусков</a></span></li></ul></li></ul></li><li><span><a href=\"#Работа-с-признаками\" data-toc-modified-id=\"Работа-с-признаками-6\">Работа с признаками</a></span><ul class=\"toc-item\"><li><span><a href=\"#Категориальные-признаки\" data-toc-modified-id=\"Категориальные-признаки-6.1\">Категориальные признаки</a></span></li><li><span><a href=\"#Бинирование-признаков\" data-toc-modified-id=\"Бинирование-признаков-6.2\">Бинирование признаков</a></span></li><li><span><a href=\"#Feature-engineering-(придумывание-признаков-из-исходных-данных)\" data-toc-modified-id=\"Feature-engineering-(придумывание-признаков-из-исходных-данных)-6.3\">Feature engineering (придумывание признаков из исходных данных)</a></span></li><li><span><a href=\"#Feature-Selection-(для-Supervised-Models)\" data-toc-modified-id=\"Feature-Selection-(для-Supervised-Models)-6.4\">Feature Selection (для Supervised Models)</a></span><ul class=\"toc-item\"><li><ul class=\"toc-item\"><li><span><a href=\"#Filter-method---Mutual-Information\" data-toc-modified-id=\"Filter-method---Mutual-Information-6.4.0.1\">Filter method - Mutual Information</a></span></li><li><span><a href=\"#Filter-method---Information-Value,-Weight-Of-Evidence\" data-toc-modified-id=\"Filter-method---Information-Value,-Weight-Of-Evidence-6.4.0.2\">Filter method - Information Value, Weight Of Evidence</a></span></li><li><span><a href=\"#Wrapper-methods\" data-toc-modified-id=\"Wrapper-methods-6.4.0.3\">Wrapper methods</a></span></li><li><span><a href=\"#Embedded-methods\" data-toc-modified-id=\"Embedded-methods-6.4.0.4\">Embedded methods</a></span></li></ul></li></ul></li><li><span><a href=\"#CountVectorizer-и-TF-IDF\" data-toc-modified-id=\"CountVectorizer-и-TF-IDF-6.5\">CountVectorizer и TF-IDF</a></span><ul class=\"toc-item\"><li><span><a href=\"#Анализ-тональности\" data-toc-modified-id=\"Анализ-тональности-6.5.1\">Анализ тональности</a></span><ul class=\"toc-item\"><li><span><a href=\"#Текстовые-данные-отсюда.\" data-toc-modified-id=\"Текстовые-данные-отсюда.-6.5.1.1\">Текстовые данные <a href=\"https://archive.ics.uci.edu/ml/machine-learning-databases/00331/\" target=\"_blank\">отсюда</a>.</a></span></li></ul></li></ul></li></ul></li></ul></div>"
   ]
  },
  {
   "cell_type": "markdown",
   "metadata": {},
   "source": [
    "# Skillfactory - Практический Machine Learning\n",
    "## 04/09/2018 - Аномалии, работа с признаками, пайплайны\n",
    "\n",
    "<center> Шестаков Андрей </center>"
   ]
  },
  {
   "cell_type": "code",
   "execution_count": 1,
   "metadata": {},
   "outputs": [
    {
     "name": "stderr",
     "output_type": "stream",
     "text": [
      "/Library/Frameworks/Python.framework/Versions/3.6/lib/python3.6/importlib/_bootstrap.py:219: RuntimeWarning: numpy.dtype size changed, may indicate binary incompatibility. Expected 96, got 88\n",
      "  return f(*args, **kwds)\n",
      "/Library/Frameworks/Python.framework/Versions/3.6/lib/python3.6/importlib/_bootstrap.py:219: RuntimeWarning: numpy.dtype size changed, may indicate binary incompatibility. Expected 96, got 88\n",
      "  return f(*args, **kwds)\n"
     ]
    }
   ],
   "source": [
    "import pandas as pd\n",
    "import numpy as np\n",
    "import matplotlib.pyplot as plt\n",
    "\n",
    "\n",
    "%matplotlib inline\n",
    "\n",
    "plt.style.use('ggplot')\n",
    "plt.rcParams['figure.figsize'] = (12, 8)"
   ]
  },
  {
   "cell_type": "code",
   "execution_count": 2,
   "metadata": {},
   "outputs": [],
   "source": [
    "import warnings\n",
    "warnings.filterwarnings('ignore')\n",
    "\n",
    "from ipywidgets import interact, IntSlider, FloatSlider"
   ]
  },
  {
   "cell_type": "markdown",
   "metadata": {},
   "source": [
    "# (Де)мотивация"
   ]
  },
  {
   "cell_type": "markdown",
   "metadata": {},
   "source": [
    "Дата саенс - это про только fit-predict, но и.."
   ]
  },
  {
   "cell_type": "markdown",
   "metadata": {},
   "source": [
    "<center><img src='img/time.jpg' width=900><center\\>"
   ]
  },
  {
   "cell_type": "markdown",
   "metadata": {},
   "source": [
    "И большую часть времени занимает именно работа с данными:\n",
    "* составление набора данных для обучения (!)\n",
    "* трансформация признаков к подходящему формату\n",
    "* отчистка от выбросов\n",
    "* анализ пропущенных значений\n",
    "* составление новых признаков\n",
    "* ..."
   ]
  },
  {
   "cell_type": "markdown",
   "metadata": {},
   "source": [
    "<center><img src='img/time2.png' width=500><center\\>"
   ]
  },
  {
   "cell_type": "markdown",
   "metadata": {},
   "source": [
    "Почему это так важно?\n",
    "\n",
    "Никто не отменял правило: ** garbage in - garbage out **"
   ]
  },
  {
   "cell_type": "markdown",
   "metadata": {},
   "source": [
    "#### Рассмотрим кейс\n",
    "\n",
    "Некий банк выдает кредит.\n",
    "\n",
    "* Приходит заявитель, подает анкету\n",
    "* Анкета проверяется\n",
    "* Для каждого заявителя собираются признаки (по анкете и из кредитного бюро)\n",
    "* Если банк все устравивает, то заявитель получает кредит и запоминается результат (вернул ли кредит вовремя)\n",
    "\n",
    "Прошло время, банк решил сделать модель, основываясь на накопленных данных, чтобы выдавать кредиты быстрее и добросовестным людям.\n",
    "\n",
    "* Данные - признаки заявителей\n",
    "* Таргет - вернет или нет"
   ]
  },
  {
   "cell_type": "markdown",
   "metadata": {},
   "source": [
    "Построили модель. Выдаем кредит только людям с достаточно большой вероятностью возврата. Без первичной фильтрации, как было раньше.\n",
    "\n",
    "При анализе качества заметили, что число невозвратов осталось таким же (или увеличилось). Почему так могло произойти?"
   ]
  },
  {
   "cell_type": "raw",
   "metadata": {},
   "source": [
    "Think about it"
   ]
  },
  {
   "cell_type": "markdown",
   "metadata": {},
   "source": [
    "# (Anomaly Detection) Выявление аномалий\n",
    "\n",
    "aka\n",
    "* Outlier detection (выявление выбросов)\n",
    "* Novelty detection (выявление новизны в данных)\n",
    "* Noise detection (выявление шумов в данных)\n",
    "* Deviation detection (выявление отклонений в данных)"
   ]
  },
  {
   "cell_type": "markdown",
   "metadata": {},
   "source": [
    "**Аномалии** - наблюдения, которые отличаются от большинства остальных объектов и не соотносятся с ожидаемой структурой данных\n",
    "\n",
    "Количество аномалий в данных (если они есть) *ничтожно* мало по сравнению с количеством нормальных объектов"
   ]
  },
  {
   "cell_type": "markdown",
   "metadata": {},
   "source": [
    "## Примеры задач, где выявление аномалий - сама цель\n",
    "* Мошеннические действия (fraud detection)\n",
    "    * несогласованные операции по кредитным картам, \n",
    "    * взлом аккаунта\n",
    "* Проверка валидности (согласованности) записей базе данных\n",
    "    * ошибки (подтасовки) в сборе данных\n",
    "* Мониторинг стабильности систем\n",
    "    * преждевременное предупреждение сбоя на производстве"
   ]
  },
  {
   "cell_type": "markdown",
   "metadata": {},
   "source": [
    "## [Moscow Data Science Meetup report](https://youtu.be/o5QCVyI0dSA?t=1994)\n",
    "<center><img src='img/kasper.png'></center>"
   ]
  },
  {
   "cell_type": "markdown",
   "metadata": {},
   "source": [
    "## Влияние аномалий в данных на модели\n",
    "\n",
    "* Аномалии могут привести как к переобучению, так и к недообучению\n",
    "* Пример недообучения мы видели в лекции по регрессии"
   ]
  },
  {
   "cell_type": "markdown",
   "metadata": {},
   "source": [
    "## Подходы к решению\n",
    "* **Обучение без учителя** \n",
    "    * Меток нет\n",
    "    * Используется некоторое представление о том, что такое аномалия\n",
    "* **Частичное обучение** \n",
    "    * Известны только метки \"нормальных\" данных\n",
    "* **Обучение с учителем**\n",
    "    * Известны метки \"нормальных\" и аномальных данных\n",
    "\n",
    "\n",
    "### Ответы алгоритмов\n",
    "* Скор аномальности\n",
    "* Метка аномальности"
   ]
  },
  {
   "cell_type": "markdown",
   "metadata": {},
   "source": [
    "## Визуальный анализ"
   ]
  },
  {
   "cell_type": "markdown",
   "metadata": {},
   "source": [
    "\n",
    "<center><img src='img/boyfriend.png'></center>"
   ]
  },
  {
   "cell_type": "markdown",
   "metadata": {},
   "source": [
    "Данные: [Задача предсказания отклика клиентов ОТП Банка](http://www.machinelearning.ru/wiki/index.php?title=%D0%97%D0%B0%D0%B4%D0%B0%D1%87%D0%B0_%D0%BF%D1%80%D0%B5%D0%B4%D1%81%D0%BA%D0%B0%D0%B7%D0%B0%D0%BD%D0%B8%D1%8F_%D0%BE%D1%82%D0%BA%D0%BB%D0%B8%D0%BA%D0%B0_%D0%BA%D0%BB%D0%B8%D0%B5%D0%BD%D1%82%D0%BE%D0%B2_%D0%9E%D0%A2%D0%9F_%D0%91%D0%B0%D0%BD%D0%BA%D0%B0_%28%D0%BA%D0%BE%D0%BD%D0%BA%D1%83%D1%80%D1%81%29)"
   ]
  },
  {
   "cell_type": "code",
   "execution_count": 3,
   "metadata": {},
   "outputs": [],
   "source": [
    "def load_otp():\n",
    "    features = pd.read_csv('data/descr.txt', sep='\\t', encoding='cp1251', names=['feature', 'descr'])\n",
    "    \n",
    "    features = features.iloc[3:]\n",
    "    feature_names = features.iloc[:, 0].values\n",
    "    \n",
    "    df_data_x = pd.read_csv('data/data_x.csv', sep=';', header=None, names=feature_names)\n",
    "    df_data_x.loc[:, 'PREVIOUS_CARD_NUM_UTILIZED'] = df_data_x.PREVIOUS_CARD_NUM_UTILIZED.fillna(0)\n",
    "    \n",
    "    features.loc[:, 'uniq_vals'] = df_data_x.apply(lambda c: c.nunique(), axis=0).values\n",
    "    \n",
    "    features = features.reset_index(drop=True)\n",
    "    \n",
    "    df_data_y = pd.read_csv('data/data_y.csv', sep=';', names=['active'])\n",
    "    \n",
    "    idx = np.where(df_data_x.dtypes == 'object')[0]\n",
    "\n",
    "    for i in idx:\n",
    "        df_data_x.iloc[:, i] = df_data_x.iloc[:, i].str.replace(',', '.').astype('float')\n",
    "        \n",
    "    df_data = df_data_x.join(df_data_y)\n",
    "    \n",
    "    return df_data, features"
   ]
  },
  {
   "cell_type": "code",
   "execution_count": 4,
   "metadata": {},
   "outputs": [],
   "source": [
    "df, features = load_otp()"
   ]
  },
  {
   "cell_type": "code",
   "execution_count": null,
   "metadata": {},
   "outputs": [],
   "source": [
    "features"
   ]
  },
  {
   "cell_type": "code",
   "execution_count": null,
   "metadata": {},
   "outputs": [],
   "source": [
    "df.head().T"
   ]
  },
  {
   "cell_type": "markdown",
   "metadata": {
    "collapsed": true
   },
   "source": [
    "## Методы, основанные на плотности и расстоянии"
   ]
  },
  {
   "cell_type": "markdown",
   "metadata": {
    "collapsed": true
   },
   "source": [
    "**Предположение 1**: Аномальные объекты расположены далеко от остальных объектов\n",
    "* Считаем расстояние до k-го ближайшего соседа\n",
    "\n",
    "**Предположение 2**: Аномальные объекты расположены в разреженых областях\n",
    "* Считаем \"плотность\" вокруг каждого объекта как обратное от среднего расстояние до $k$ ближайших соседей:\n",
    "$$ density_k(a) = 1 \\Biggm/ \\left(\\frac{\\sum\\limits_{b\\in N_k(a)} d(a, b)}{|N_k(a)|} \\right)$$"
   ]
  },
  {
   "cell_type": "code",
   "execution_count": 5,
   "metadata": {},
   "outputs": [],
   "source": [
    "from sklearn.neighbors import NearestNeighbors\n",
    "from sklearn.preprocessing import StandardScaler, RobustScaler"
   ]
  },
  {
   "cell_type": "code",
   "execution_count": 6,
   "metadata": {},
   "outputs": [],
   "source": [
    "cols = ['AGE', 'GENDER', 'FAMILY_INCOME', 'CHILD_TOTAL', 'PERSONAL_INCOME', 'DEPENDANTS',\n",
    "        'REG_FACT_FL', u'FACT_POST_FL', u'REG_POST_FL', u'REG_FACT_POST_FL',\n",
    "        u'REG_FACT_POST_TP_FL', u'FL_PRESENCE_FL',\n",
    "        u'OWN_AUTO', u'AUTO_RUS_FL', u'HS_PRESENCE_FL', u'COT_PRESENCE_FL',\n",
    "        u'GAR_PRESENCE_FL', u'LAND_PRESENCE_FL',\n",
    "        u'CREDIT', 'FST_PAYMENT']"
   ]
  },
  {
   "cell_type": "code",
   "execution_count": 7,
   "metadata": {},
   "outputs": [],
   "source": [
    "X = df.loc[:, cols].values"
   ]
  },
  {
   "cell_type": "code",
   "execution_count": 8,
   "metadata": {},
   "outputs": [],
   "source": [
    "scaler = RobustScaler()\n",
    "X_ = scaler.fit_transform(X)"
   ]
  },
  {
   "cell_type": "code",
   "execution_count": 9,
   "metadata": {},
   "outputs": [
    {
     "data": {
      "text/plain": [
       "NearestNeighbors(algorithm='auto', leaf_size=30, metric='minkowski',\n",
       "         metric_params=None, n_jobs=None, n_neighbors=21, p=2, radius=1.0)"
      ]
     },
     "execution_count": 9,
     "metadata": {},
     "output_type": "execute_result"
    }
   ],
   "source": [
    "k = 20\n",
    "model = NearestNeighbors(n_neighbors=(k+1))\n",
    "model.fit(X_)"
   ]
  },
  {
   "cell_type": "code",
   "execution_count": 10,
   "metadata": {},
   "outputs": [],
   "source": [
    "d, ind = model.kneighbors(X_, n_neighbors=(k+1), )"
   ]
  },
  {
   "cell_type": "code",
   "execution_count": 11,
   "metadata": {},
   "outputs": [
    {
     "data": {
      "text/plain": [
       "(15223, 21)"
      ]
     },
     "execution_count": 11,
     "metadata": {},
     "output_type": "execute_result"
    }
   ],
   "source": [
    "d.shape"
   ]
  },
  {
   "cell_type": "code",
   "execution_count": 12,
   "metadata": {},
   "outputs": [
    {
     "data": {
      "text/plain": [
       "(15223, 21)"
      ]
     },
     "execution_count": 12,
     "metadata": {},
     "output_type": "execute_result"
    }
   ],
   "source": [
    "ind.shape"
   ]
  },
  {
   "cell_type": "code",
   "execution_count": 13,
   "metadata": {},
   "outputs": [],
   "source": [
    "density = 1./(d[:, 1:].mean(axis=1) + 0.0001)"
   ]
  },
  {
   "cell_type": "code",
   "execution_count": 14,
   "metadata": {},
   "outputs": [
    {
     "data": {
      "text/plain": [
       "(15223,)"
      ]
     },
     "execution_count": 14,
     "metadata": {},
     "output_type": "execute_result"
    }
   ],
   "source": [
    "density.shape"
   ]
  },
  {
   "cell_type": "code",
   "execution_count": 15,
   "metadata": {},
   "outputs": [
    {
     "data": {
      "text/plain": [
       "(array([1207., 6763., 3378., 1962., 1084.,  523.,  194.,   76.,   29.,\n",
       "           7.]),\n",
       " array([0.03757871, 0.59438799, 1.15119726, 1.70800653, 2.26481581,\n",
       "        2.82162508, 3.37843436, 3.93524363, 4.4920529 , 5.04886218,\n",
       "        5.60567145]),\n",
       " <a list of 10 Patch objects>)"
      ]
     },
     "execution_count": 15,
     "metadata": {},
     "output_type": "execute_result"
    },
    {
     "data": {
      "image/png": "[encoded data removed]",
      "text/plain": [
       "<Figure size 432x288 with 1 Axes>"
      ]
     },
     "metadata": {},
     "output_type": "display_data"
    }
   ],
   "source": [
    "plt.hist(density)"
   ]
  },
  {
   "cell_type": "code",
   "execution_count": 16,
   "metadata": {},
   "outputs": [],
   "source": [
    "thresh = 0.2"
   ]
  },
  {
   "cell_type": "code",
   "execution_count": 17,
   "metadata": {},
   "outputs": [],
   "source": [
    "idx = density < thresh"
   ]
  },
  {
   "cell_type": "code",
   "execution_count": 18,
   "metadata": {
    "scrolled": false
   },
   "outputs": [
    {
     "data": {
      "text/plain": [
       "AGE                              -4.171087\n",
       "SOCSTATUS_WORK_FL                 0.042830\n",
       "SOCSTATUS_PENS_FL                -0.008401\n",
       "GENDER                           -0.130907\n",
       "CHILD_TOTAL                       0.433320\n",
       "DEPENDANTS                        0.264621\n",
       "EDUCATION                        -0.646591\n",
       "MARITAL_STATUS                    0.198113\n",
       "GEN_INDUSTRY                     -0.249870\n",
       "GEN_TITLE                        -0.563140\n",
       "ORG_TP_STATE                      0.210263\n",
       "ORG_TP_FCAPITAL                  -0.087860\n",
       "JOB_DIR                          -0.114802\n",
       "FAMILY_INCOME                    -0.882353\n",
       "PERSONAL_INCOME              -97566.470084\n",
       "REG_ADDRESS_PROVINCE              6.045323\n",
       "FACT_ADDRESS_PROVINCE             6.886171\n",
       "POSTAL_ADDRESS_PROVINCE           6.868476\n",
       "TP_PROVINCE                       8.328248\n",
       "REGION_NM                        -1.351753\n",
       "REG_FACT_FL                       0.029050\n",
       "FACT_POST_FL                      0.046495\n",
       "REG_POST_FL                      -0.018431\n",
       "REG_FACT_POST_FL                  0.028590\n",
       "REG_FACT_POST_TP_FL               0.095949\n",
       "FL_PRESENCE_FL                   -0.071256\n",
       "OWN_AUTO                         -0.074241\n",
       "AUTO_RUS_FL                       0.026384\n",
       "HS_PRESENCE_FL                    0.168274\n",
       "COT_PRESENCE_FL                   0.009801\n",
       "GAR_PRESENCE_FL                   0.019274\n",
       "LAND_PRESENCE_FL                 -0.003941\n",
       "CREDIT                       -23461.038769\n",
       "TERM                             -2.616864\n",
       "FST_PAYMENT                  -25059.717490\n",
       "DL_DOCUMENT_FL                    0.000000\n",
       "GPF_DOCUMENT_FL                   0.160298\n",
       "FACT_LIVING_TERM               2909.829828\n",
       "WORK_TIME                       185.579870\n",
       "FACT_PHONE_FL                    -0.102787\n",
       "REG_PHONE_FL                     -0.088193\n",
       "GEN_PHONE_FL                     -0.042303\n",
       "LOAN_NUM_TOTAL                    0.292935\n",
       "LOAN_NUM_CLOSED                   0.228394\n",
       "LOAN_NUM_PAYM                     3.499853\n",
       "LOAN_DLQ_NUM                      0.147947\n",
       "LOAN_MAX_DLQ                      0.082693\n",
       "LOAN_AVG_DLQ_AMT                 71.937333\n",
       "LOAN_MAX_DLQ_AMT                 75.506740\n",
       "PREVIOUS_CARD_NUM_UTILIZED        0.019076\n",
       "active                           -0.023860\n",
       "dtype: float64"
      ]
     },
     "execution_count": 18,
     "metadata": {},
     "output_type": "execute_result"
    }
   ],
   "source": [
    "df.loc[~idx, :].mean() - df.loc[idx, :].mean()"
   ]
  },
  {
   "cell_type": "markdown",
   "metadata": {},
   "source": [
    "## Методы машинного обучения"
   ]
  },
  {
   "cell_type": "markdown",
   "metadata": {
    "slideshow": {
     "slide_type": "subslide"
    }
   },
   "source": [
    "### Изолирующий лес\n",
    "**Предположение**: Аномальные объекты быстрее изолируются от остальных наблюдений в данных\n",
    "<center><img src='img/isofor.png' width=600></center>"
   ]
  },
  {
   "cell_type": "markdown",
   "metadata": {
    "slideshow": {
     "slide_type": "subslide"
    }
   },
   "source": [
    "Каждое дерево в изолирующем лесу строится по следующим правилам:\n",
    "* Дерево строится на случайной подвыборке заданного размера\n",
    "* В каждой вершине выбирается случайный признак и случайный порог\n",
    "* Дерево строится до максимальной глубины\n",
    "\n",
    "Авторы рекомендуют использовать 256 объектов для обучения каждого дерева и 100 деревьев в лесу"
   ]
  },
  {
   "cell_type": "markdown",
   "metadata": {
    "slideshow": {
     "slide_type": "subslide"
    }
   },
   "source": [
    "Мера аномальности - средняя длина пути по деревьям лесу*\n",
    "<center><img src='img/isofor2.png' width=400></center>"
   ]
  },
  {
   "cell_type": "code",
   "execution_count": null,
   "metadata": {},
   "outputs": [],
   "source": [
    "from sklearn.ensemble import IsolationForest"
   ]
  },
  {
   "cell_type": "code",
   "execution_count": null,
   "metadata": {},
   "outputs": [],
   "source": [
    "X = df.iloc[:, :-1].values\n",
    "X[np.isnan(X)] = -999"
   ]
  },
  {
   "cell_type": "code",
   "execution_count": null,
   "metadata": {},
   "outputs": [],
   "source": [
    "model = IsolationForest(n_estimators=100, \n",
    "                        max_samples=256, \n",
    "                        n_jobs=-1, \n",
    "                        random_state=123)"
   ]
  },
  {
   "cell_type": "code",
   "execution_count": null,
   "metadata": {},
   "outputs": [],
   "source": [
    "model.fit(X)"
   ]
  },
  {
   "cell_type": "markdown",
   "metadata": {},
   "source": [
    "# Дисбаланс классов"
   ]
  },
  {
   "cell_type": "markdown",
   "metadata": {},
   "source": [
    "На практике, при решении задачи классификации, классы могут быть сильно дисбалансированны.\n",
    "\n",
    "Так как, обычно, модели считают объекты равноценными, то представителям минорного класса может уделяться меньшее внимание (просто потому что их мало)\n",
    "\n",
    "Нужно как-то сбалансировать задачу!"
   ]
  },
  {
   "cell_type": "markdown",
   "metadata": {
    "slideshow": {
     "slide_type": "slide"
    }
   },
   "source": [
    "## Способы балансировки классов\n",
    "* Взвешивание функции потерь\n",
    "$$ \\tilde{L}(X, \\theta) = \\sum_iw_iL(x_i, \\theta) $$\n",
    "Обычно $w_i$ обратно пропорциональны частоте соответствующего класса"
   ]
  },
  {
   "cell_type": "code",
   "execution_count": null,
   "metadata": {
    "slideshow": {
     "slide_type": "notes"
    }
   },
   "outputs": [],
   "source": [
    "from sklearn.datasets import make_moons\n",
    "from imblearn.datasets import make_imbalance\n",
    "from sklearn.linear_model import LogisticRegression\n",
    "\n",
    "def demo_weight(class_weight=None, ratio=0.5):\n",
    "\n",
    "    X_, y_ = make_moons(n_samples=500, shuffle=True, noise=0.3, random_state=0)\n",
    "    X, y = make_imbalance(X_, y_, ratio, random_state=0)\n",
    "\n",
    "    model = LogisticRegression(class_weight=class_weight).fit(X, y)\n",
    "    x0, x1 = np.meshgrid(np.linspace(-1, 2.5, 100),\n",
    "                         np.linspace(-2, 2, 100))\n",
    "    xx0, xx1 = x0.ravel(), x1.ravel()\n",
    "\n",
    "    X_grid = np.c_[xx0, xx1]\n",
    "\n",
    "    y_hat = model.decision_function(X_grid)\n",
    "    y_hat = y_hat.reshape(x0.shape)\n",
    "\n",
    "    plt.contour(x0, x1, y_hat, levels=[0])\n",
    "    plt.scatter(X[:,0], \n",
    "                X[:, 1], \n",
    "                c=y, cmap=plt.cm.flag_r)\n",
    "    plt.axis('equal')"
   ]
  },
  {
   "cell_type": "code",
   "execution_count": null,
   "metadata": {
    "scrolled": true,
    "slideshow": {
     "slide_type": "subslide"
    }
   },
   "outputs": [],
   "source": [
    "interact(demo_weight, class_weight=['balanced', None], ratio=FloatSlider(min=0.05, max=0.5, step=0.05))"
   ]
  },
  {
   "cell_type": "markdown",
   "metadata": {
    "slideshow": {
     "slide_type": "slide"
    }
   },
   "source": [
    "### Сэмплирование\n",
    "* Under-sampling\n",
    "* Over-sampling\n",
    "* Ensemble methods\n",
    "\n",
    "See  [imbalanced-learn](https://github.com/scikit-learn-contrib/imbalanced-learn)"
   ]
  },
  {
   "cell_type": "markdown",
   "metadata": {
    "slideshow": {
     "slide_type": "subslide"
    }
   },
   "source": [
    "## Under-sampling\n",
    "Убираем представителей доминирующего класса\n",
    "* Случайным образом\n",
    "* Оставить эталонные объекты (ClusterCentroids)\n",
    "* Оставить объекты, наиболее похожие на представителей минорного класса (NearMiss)\n",
    "* Удалить объекты, в окрестности которых есть (много) представителей минорного класса (Condenced NN)"
   ]
  },
  {
   "cell_type": "code",
   "execution_count": null,
   "metadata": {
    "slideshow": {
     "slide_type": "notes"
    }
   },
   "outputs": [],
   "source": [
    "from imblearn.under_sampling import NearMiss, RandomUnderSampler, EditedNearestNeighbours, ClusterCentroids, CondensedNearestNeighbour\n",
    "\n",
    "def demo_under(ratio=0.5, sampler=None):\n",
    "\n",
    "    X_, y_ = make_moons(n_samples=500, shuffle=True, noise=0.3, random_state=0)\n",
    "    X, y = make_imbalance(X_, y_, ratio, random_state=0)\n",
    "    \n",
    "    sampler_model = \\\n",
    "              {'rand': RandomUnderSampler(random_state=0),\n",
    "               'cluster': ClusterCentroids(random_state=0),\n",
    "               'editnn': EditedNearestNeighbours(random_state=0),\n",
    "               'condnn': CondensedNearestNeighbour(random_state=0),\n",
    "               'nearmiss': NearMiss(random_state=0, version=1)}.get(sampler)\n",
    "    \n",
    "    if sampler:\n",
    "        X, y = sampler_model.fit_sample(X, y)\n",
    "\n",
    "    model = LogisticRegression(class_weight=None).fit(X, y)\n",
    "    x0, x1 = np.meshgrid(np.linspace(-1, 2.5, 100),\n",
    "                         np.linspace(-2, 2, 100))\n",
    "    xx0, xx1 = x0.ravel(), x1.ravel()\n",
    "\n",
    "    X_grid = np.c_[xx0, xx1]\n",
    "\n",
    "    y_hat = model.decision_function(X_grid)\n",
    "    y_hat = y_hat.reshape(x0.shape)\n",
    "\n",
    "    plt.contour(x0, x1, y_hat, levels=[0])\n",
    "    plt.scatter(X[:,0], \n",
    "                X[:, 1], \n",
    "                c=y, cmap=plt.cm.flag_r)\n",
    "    plt.axis('equal')"
   ]
  },
  {
   "cell_type": "code",
   "execution_count": null,
   "metadata": {
    "slideshow": {
     "slide_type": "subslide"
    }
   },
   "outputs": [],
   "source": [
    "interact(demo_under, ratio=FloatSlider(min=0.05, max=0.5, step=0.05), sampler=[None, 'rand', 'cluster', 'editnn', 'condnn', 'nearmiss'])"
   ]
  },
  {
   "cell_type": "markdown",
   "metadata": {
    "slideshow": {
     "slide_type": "subslide"
    }
   },
   "source": [
    "## Over sampling\n",
    "Генерируем представителей минорного класса\n",
    "* Случайным образом из существующих\n",
    "* Синтетически, на основе существующих\n"
   ]
  },
  {
   "cell_type": "markdown",
   "metadata": {
    "slideshow": {
     "slide_type": "subslide"
    }
   },
   "source": [
    "## SMOTE\n",
    "### Synthetic Minority Over-sampling Technique\n",
    "* Для каждого представителя минорного класса найте $k$ ближайших соседей\n",
    "* Выбрать одного из соседей\n",
    "* Сгенерировать новый объект, расположеный между ними\n",
    "\n",
    "<center><img src='img/smote.png' width=400></center>"
   ]
  },
  {
   "cell_type": "code",
   "execution_count": null,
   "metadata": {
    "slideshow": {
     "slide_type": "notes"
    }
   },
   "outputs": [],
   "source": [
    "from imblearn.over_sampling import SMOTE, RandomOverSampler\n",
    "\n",
    "def demo_over(ratio=0.5, sampler=None):\n",
    "\n",
    "    X_, y_ = make_moons(n_samples=500, shuffle=True, noise=0.3, random_state=0)\n",
    "    X, y = make_imbalance(X_, y_, ratio, random_state=0)\n",
    "    \n",
    "    sampler_model = \\\n",
    "              {'rand': RandomOverSampler(random_state=0),\n",
    "               'smote': SMOTE(),\n",
    "               }.get(sampler)\n",
    "    \n",
    "    if sampler:\n",
    "        X, y = sampler_model.fit_sample(X, y)\n",
    "\n",
    "    model = LogisticRegression(class_weight=None).fit(X, y)\n",
    "    x0, x1 = np.meshgrid(np.linspace(-1, 2.5, 100),\n",
    "                         np.linspace(-2, 2, 100))\n",
    "    xx0, xx1 = x0.ravel(), x1.ravel()\n",
    "\n",
    "    X_grid = np.c_[xx0, xx1]\n",
    "\n",
    "    y_hat = model.decision_function(X_grid)\n",
    "    y_hat = y_hat.reshape(x0.shape)\n",
    "\n",
    "    plt.contour(x0, x1, y_hat, levels=[0])\n",
    "    plt.scatter(X[:,0], \n",
    "                X[:, 1], \n",
    "                c=y, cmap=plt.cm.flag_r)\n",
    "    plt.axis('equal')"
   ]
  },
  {
   "cell_type": "code",
   "execution_count": null,
   "metadata": {
    "slideshow": {
     "slide_type": "subslide"
    }
   },
   "outputs": [],
   "source": [
    "interact(demo_over, ratio=FloatSlider(min=0.05, max=0.5, step=0.05), sampler=[None, 'rand', 'smote'])"
   ]
  },
  {
   "cell_type": "markdown",
   "metadata": {
    "slideshow": {
     "slide_type": "slide"
    }
   },
   "source": [
    "## Ансамблевые методы\n",
    "### Easy Ensemble\n",
    "\n",
    "* Строим несколько моделей на случайно сбалансированных данных"
   ]
  },
  {
   "cell_type": "markdown",
   "metadata": {},
   "source": [
    "## Попробуем сами"
   ]
  },
  {
   "cell_type": "code",
   "execution_count": null,
   "metadata": {},
   "outputs": [],
   "source": [
    "from sklearn.metrics import precision_recall_curve\n",
    "from sklearn.metrics import auc\n",
    "from sklearn.model_selection import cross_val_score\n",
    "from sklearn.model_selection import StratifiedKFold\n",
    "from sklearn.preprocessing import OneHotEncoder\n",
    "\n",
    "from sklearn.preprocessing import Imputer\n",
    "from sklearn.linear_model import LogisticRegression\n",
    "from sklearn.pipeline import Pipeline\n",
    "from imblearn.pipeline import Pipeline as Pipeline_imb"
   ]
  },
  {
   "cell_type": "code",
   "execution_count": null,
   "metadata": {},
   "outputs": [],
   "source": [
    "def pr_auc(estimator, X, y):\n",
    "    y_hat = estimator.predict_proba(X)[:, 1]\n",
    "    pr, rec, _ = precision_recall_curve(y, y_hat)\n",
    "    return auc(rec, pr)"
   ]
  },
  {
   "cell_type": "code",
   "execution_count": null,
   "metadata": {},
   "outputs": [],
   "source": [
    "df_data, features = load_otp()"
   ]
  },
  {
   "cell_type": "code",
   "execution_count": null,
   "metadata": {
    "scrolled": false
   },
   "outputs": [],
   "source": [
    "features[(features.uniq_vals>2) & (features.uniq_vals<100)]"
   ]
  },
  {
   "cell_type": "code",
   "execution_count": null,
   "metadata": {},
   "outputs": [],
   "source": [
    "X = df_data.iloc[:, :-1].values\n",
    "y = df_data.iloc[:, -1].values"
   ]
  },
  {
   "cell_type": "code",
   "execution_count": null,
   "metadata": {
    "scrolled": true
   },
   "outputs": [],
   "source": [
    "pipeline1 = Pipeline([\n",
    "    ('imputer', Imputer(strategy='median')),\n",
    "    ('scaller', StandardScaler()),\n",
    "    ('clf', LogisticRegression(random_state=123))\n",
    "])\n",
    "\n",
    "pipeline2 = Pipeline([\n",
    "    ('imputer', Imputer(strategy='median')),\n",
    "    ('scaller', StandardScaler()),\n",
    "    ('clf', LogisticRegression(class_weight='balanced', random_state=123))\n",
    "])\n",
    "\n",
    "pipeline3 = Pipeline_imb([\n",
    "    ('imputer', Imputer(strategy='median')),\n",
    "    ('scaller', StandardScaler()),\n",
    "    ('balancer', SMOTE()),\n",
    "    ('clf', LogisticRegression(random_state=123))\n",
    "])"
   ]
  },
  {
   "cell_type": "code",
   "execution_count": null,
   "metadata": {},
   "outputs": [],
   "source": [
    "cv = StratifiedKFold(n_splits=5, random_state=123, shuffle=True)"
   ]
  },
  {
   "cell_type": "code",
   "execution_count": null,
   "metadata": {},
   "outputs": [],
   "source": [
    "cross_val_score(pipeline1, X, y, scoring='roc_auc', cv=cv).mean()"
   ]
  },
  {
   "cell_type": "code",
   "execution_count": null,
   "metadata": {},
   "outputs": [],
   "source": [
    "pipeline2.fit(X, y)"
   ]
  },
  {
   "cell_type": "code",
   "execution_count": null,
   "metadata": {},
   "outputs": [],
   "source": [
    "y_hat = pipeline2.predict_proba(X)"
   ]
  },
  {
   "cell_type": "code",
   "execution_count": null,
   "metadata": {},
   "outputs": [],
   "source": [
    "plt.hist(y_hat[:, 1])"
   ]
  },
  {
   "cell_type": "code",
   "execution_count": null,
   "metadata": {},
   "outputs": [],
   "source": [
    "cross_val_score(pipeline2, X, y, scoring='roc_auc', cv=cv).mean()"
   ]
  },
  {
   "cell_type": "code",
   "execution_count": null,
   "metadata": {},
   "outputs": [],
   "source": [
    "cross_val_score(pipeline3, X, y, scoring='roc_auc', cv=cv).mean()"
   ]
  },
  {
   "cell_type": "markdown",
   "metadata": {},
   "source": [
    "<img src='http://i0.kym-cdn.com/entries/icons/original/000/024/153/soundsgood.jpg'>"
   ]
  },
  {
   "cell_type": "markdown",
   "metadata": {},
   "source": [
    "* На самом деле иногда работает =)"
   ]
  },
  {
   "cell_type": "markdown",
   "metadata": {},
   "source": [
    "# Пропущенные значения"
   ]
  },
  {
   "cell_type": "markdown",
   "metadata": {},
   "source": [
    "## Наиболее распространенные способы работы с пропусками"
   ]
  },
  {
   "cell_type": "markdown",
   "metadata": {},
   "source": [
    "* Замена средним (медианой, модой) по признаку\n",
    "* К-ближайших соседей\n",
    "* Модельный подход\n",
    "\n",
    "\n",
    "* Некоторые алгоритмы нормально относятся к пропущенным значениям\n",
    "    * Алгоритмы, основанные на деревьях\n",
    "   \n"
   ]
  },
  {
   "cell_type": "code",
   "execution_count": null,
   "metadata": {},
   "outputs": [],
   "source": [
    "from sklearn.base import BaseEstimator, TransformerMixin"
   ]
  },
  {
   "cell_type": "code",
   "execution_count": null,
   "metadata": {},
   "outputs": [],
   "source": [
    "class ZeroImputer(BaseEstimator, TransformerMixin):\n",
    "    def fit(self, X, y=None):\n",
    "        return self\n",
    "\n",
    "    def transform(self, X):\n",
    "        idx = np.isnan(X)\n",
    "        X[idx] = 0.0\n",
    "        return X"
   ]
  },
  {
   "cell_type": "code",
   "execution_count": null,
   "metadata": {},
   "outputs": [],
   "source": []
  },
  {
   "cell_type": "markdown",
   "metadata": {},
   "source": [
    "### \"Визуализация\" пропусков"
   ]
  },
  {
   "cell_type": "markdown",
   "metadata": {},
   "source": [
    "Данные - [Sberbank Russian Housing Market](https://www.kaggle.com/c/sberbank-russian-housing-market)"
   ]
  },
  {
   "cell_type": "code",
   "execution_count": null,
   "metadata": {},
   "outputs": [],
   "source": [
    "# !pip install missingno"
   ]
  },
  {
   "cell_type": "code",
   "execution_count": null,
   "metadata": {},
   "outputs": [],
   "source": [
    "import missingno as msno"
   ]
  },
  {
   "cell_type": "code",
   "execution_count": null,
   "metadata": {
    "scrolled": true
   },
   "outputs": [],
   "source": [
    "!cat data/data_dictionary_sber.txt"
   ]
  },
  {
   "cell_type": "code",
   "execution_count": null,
   "metadata": {},
   "outputs": [],
   "source": [
    "#!unzip data/train_sber.csv.zip \n",
    "df = pd.read_csv('data/train_sber.csv.gz')"
   ]
  },
  {
   "cell_type": "code",
   "execution_count": null,
   "metadata": {},
   "outputs": [],
   "source": [
    "df.shape"
   ]
  },
  {
   "cell_type": "code",
   "execution_count": null,
   "metadata": {
    "scrolled": true
   },
   "outputs": [],
   "source": [
    "df.isnull().mean().T.sort_values(ascending=False)"
   ]
  },
  {
   "cell_type": "code",
   "execution_count": null,
   "metadata": {},
   "outputs": [],
   "source": [
    "msno.matrix(df, sort='ascending')"
   ]
  },
  {
   "cell_type": "code",
   "execution_count": null,
   "metadata": {},
   "outputs": [],
   "source": [
    "msno.matrix(df.iloc[:, :10], sort='ascending')"
   ]
  },
  {
   "cell_type": "code",
   "execution_count": null,
   "metadata": {
    "scrolled": true
   },
   "outputs": [],
   "source": [
    "msno.dendrogram(df)"
   ]
  },
  {
   "cell_type": "markdown",
   "metadata": {},
   "source": [
    "# Работа с признаками"
   ]
  },
  {
   "cell_type": "markdown",
   "metadata": {},
   "source": [
    "## Категориальные признаки"
   ]
  },
  {
   "cell_type": "markdown",
   "metadata": {},
   "source": [
    "* Много редких категории\n",
    "* One-hot encoding\n",
    "* Кодирование через другие переменные или данные\n"
   ]
  },
  {
   "cell_type": "markdown",
   "metadata": {},
   "source": [
    "## Бинирование признаков"
   ]
  },
  {
   "cell_type": "markdown",
   "metadata": {},
   "source": [
    "Вот так (примерно) выглядит скор-карта на выдачу кредита"
   ]
  },
  {
   "cell_type": "markdown",
   "metadata": {},
   "source": [
    "<img src='https://www.mathworks.com/help/finance/credit_score_card_overview.png'>"
   ]
  },
  {
   "cell_type": "markdown",
   "metadata": {},
   "source": [
    "Каждый \"признак\" разбит на бины (bins) - значимые интервалы. Если значение признака попадает в интервал, то к скору заемщика прибавляется сооветвтвующая величина."
   ]
  },
  {
   "cell_type": "markdown",
   "metadata": {},
   "source": [
    "* Как бы вы реализовали биннинг?\n",
    "* Библиотечка на R - [smbinning](http://blog.revolutionanalytics.com/2015/03/r-package-smbinning-optimal-binning-for-scoring-modeling.html)"
   ]
  },
  {
   "cell_type": "markdown",
   "metadata": {},
   "source": [
    "## Feature engineering (придумывание признаков из исходных данных)"
   ]
  },
  {
   "cell_type": "markdown",
   "metadata": {},
   "source": [
    "Данные для решения задачи все всегда приходят в \"готовом\" формате.\n",
    "\n",
    "Довольно часто приходится на основе исходной информации придумывать признаки.\n",
    "\n",
    "Более конкретный пример мы разберем в следующем ноутбуке"
   ]
  },
  {
   "cell_type": "markdown",
   "metadata": {},
   "source": [
    "## Feature Selection (для Supervised Models)\n",
    "Методы делятся на следующие группы:\n",
    "* Filter methods \n",
    "    * Признаки рассматриваются независимо друг от друга\n",
    "    * Изучается индивидуальный \"вклад\" призника в предсказываемую переменную\n",
    "    * Быстрое вычисление\n",
    "* Wrapper methods\n",
    "    * Идет отбор группы признаков\n",
    "    * Может быть оооочень медленным, но качество, обычно, лучше чем у Filter Methods\n",
    "    * Примеры: Stepwise feature selection for regression, [Boruta Algorithm](https://www.google.ru/url?sa=t&rct=j&q=&esrc=s&source=web&cd=2&ved=0ahUKEwif5biy-fTWAhXkYJoKHbdxCLAQFgg2MAE&url=https%3A%2F%2Fwww.jstatsoft.org%2Farticle%2Fview%2Fv036i11%2Fv36i11.pdf&usg=AOvVaw3tyiHN0BCe2fkkAA6xEVDE), [package](https://github.com/scikit-learn-contrib/boruta_py)\n",
    "* Embedded methods\n",
    "    * Отбор признаков \"зашит\" в модель\n",
    "\n",
    "#### Filter method - Mutual Information\n",
    "Пусть $X$ - категориальный признак, $Y$ - целевой признак (метка класса)\n",
    "$$MI(Y, X) = \\sum_{x,y} p(x,y) \\ln\\left[\\frac{p(x,y)}{p(x)p(y)}\\right]$$\n",
    "Сколько информации $x$ сообщает об $y$.\n",
    "\n",
    "#### Filter method - Information Value, Weight Of Evidence\n",
    "$$IV(Y,X) = \\sum_{x} \\left(p(y=1|x) - p(y=0|x)\\right)\\ln\\frac{p(y=1|x)}{p(y=0|x)} $$\n",
    "\n",
    "<img src='img/iv-sample.png'>"
   ]
  },
  {
   "cell_type": "markdown",
   "metadata": {},
   "source": [
    "#### Wrapper methods\n",
    "Recursive Feature Elimination"
   ]
  },
  {
   "cell_type": "code",
   "execution_count": null,
   "metadata": {},
   "outputs": [],
   "source": [
    "from sklearn.feature_selection import RFECV"
   ]
  },
  {
   "cell_type": "code",
   "execution_count": null,
   "metadata": {
    "scrolled": true
   },
   "outputs": [],
   "source": [
    "df_data, features = load_otp()"
   ]
  },
  {
   "cell_type": "code",
   "execution_count": null,
   "metadata": {},
   "outputs": [],
   "source": [
    "X = df_data.iloc[:, :-1].fillna(0).values\n",
    "y = df_data.iloc[:, -1].values"
   ]
  },
  {
   "cell_type": "code",
   "execution_count": null,
   "metadata": {},
   "outputs": [],
   "source": [
    "cv = StratifiedKFold(3, shuffle=True, random_state=123)"
   ]
  },
  {
   "cell_type": "code",
   "execution_count": null,
   "metadata": {},
   "outputs": [],
   "source": [
    "pipeline = Pipeline([\n",
    "    ('imputer', Imputer(strategy='median')),\n",
    "    ('scaller', StandardScaler()),\n",
    "    ('clf', RFECV(LogisticRegression(class_weight='balanced'), verbose=2, cv=cv, scoring=pr_auc, n_jobs=1))\n",
    "])"
   ]
  },
  {
   "cell_type": "code",
   "execution_count": null,
   "metadata": {
    "scrolled": true
   },
   "outputs": [],
   "source": [
    "pipeline.fit(X, y)"
   ]
  },
  {
   "cell_type": "code",
   "execution_count": null,
   "metadata": {},
   "outputs": [],
   "source": [
    "pipeline.named_steps['clf']"
   ]
  },
  {
   "cell_type": "code",
   "execution_count": null,
   "metadata": {},
   "outputs": [],
   "source": [
    "plt.figure()\n",
    "plt.xlabel(\"Number of features selected\")\n",
    "plt.ylabel(\"Cross validation score\")\n",
    "plt.plot(range(1, len(pipeline.named_steps['clf'].grid_scores_) + 1), pipeline.named_steps['clf'].grid_scores_)\n",
    "print(\"Optimal number of features : %d\" % pipeline.named_steps['clf'].n_features_)\n",
    "plt.show()"
   ]
  },
  {
   "cell_type": "markdown",
   "metadata": {},
   "source": [
    "#### Embedded methods\n",
    "* Feature importance у деревьев решений\n",
    "* L1 регуляризация у линейной и логистической регрессии"
   ]
  },
  {
   "cell_type": "code",
   "execution_count": null,
   "metadata": {},
   "outputs": [],
   "source": [
    "from sklearn.ensemble import RandomForestClassifier\n",
    "\n",
    "model = RandomForestClassifier()\n",
    "model.fit(X, y)"
   ]
  },
  {
   "cell_type": "code",
   "execution_count": null,
   "metadata": {},
   "outputs": [],
   "source": [
    "rf_importance = pd.DataFrame(model.feature_importances_, df_data.iloc[:, :-1].columns)"
   ]
  },
  {
   "cell_type": "code",
   "execution_count": null,
   "metadata": {},
   "outputs": [],
   "source": [
    "rf_importance.sort_values(by=0, ascending=False).plot.barh(figsize = (15, 10))"
   ]
  },
  {
   "cell_type": "markdown",
   "metadata": {},
   "source": [
    "## CountVectorizer и TF-IDF"
   ]
  },
  {
   "cell_type": "markdown",
   "metadata": {},
   "source": [
    "### Анализ тональности"
   ]
  },
  {
   "cell_type": "markdown",
   "metadata": {},
   "source": [
    "#### Текстовые данные [отсюда](https://archive.ics.uci.edu/ml/machine-learning-databases/00331/). \n",
    "Архив должен содержать 3 файла с положительными и отрицательными отзывами с ресурсов\n",
    "* imdb.com\n",
    "* amazon.com\n",
    "* yelp.com\n",
    "\n",
    "Формат файла следующий:\n",
    "<отзыв>\\t<метка>\\n"
   ]
  },
  {
   "cell_type": "code",
   "execution_count": null,
   "metadata": {
    "scrolled": false
   },
   "outputs": [],
   "source": [
    "df = pd.read_csv('data/amazon_cells_labelled.txt', sep='\\t', \n",
    "                 header=None, \n",
    "                 names=['text', 'label'])\n",
    "df.head()"
   ]
  },
  {
   "cell_type": "code",
   "execution_count": null,
   "metadata": {
    "code_folding": [
     7,
     26
    ]
   },
   "outputs": [],
   "source": [
    "from sklearn.feature_extraction.text import CountVectorizer\n",
    "from sklearn.feature_extraction.text import TfidfVectorizer\n",
    "from sklearn.decomposition import TruncatedSVD\n",
    "\n",
    "from sklearn.model_selection import train_test_split\n",
    "from sklearn.metrics import confusion_matrix, roc_curve\n",
    "\n",
    "\n",
    "def plot_roc_curve(predictions, yval):\n",
    "    try:\n",
    "        preds = predictions[:,1]\n",
    "    except:\n",
    "        preds = np.array(predictions)\n",
    "    fpr, tpr, threshold = roc_curve(yval, preds)\n",
    "    roc_auc = auc(fpr, tpr)\n",
    "    with plt.rc_context({'xtick.color':'white', 'ytick.color':'white',\n",
    "                     'axes.labelcolor':'white'}):\n",
    "        plt.title('Receiver Operating Characteristic')\n",
    "        plt.plot(fpr, tpr, 'b', label = 'AUC = %0.2f' % roc_auc)\n",
    "        plt.legend(loc = 'lower right')\n",
    "        plt.plot([0, 1], [0, 1],'r--')\n",
    "        plt.xlim([0, 1])\n",
    "        plt.ylim([0, 1])\n",
    "        plt.ylabel('True Positive Rate')\n",
    "        plt.xlabel('False Positive Rate')\n",
    "        plt.show()\n",
    "        \n",
    "def visualize_coefficients(classifier, feature_names, n_top_features=10):\n",
    "    \n",
    "    ### визулизирует влияние факторов на целевую переменную\n",
    "    \n",
    "    coef = classifier.coef_.ravel()\n",
    "    positive_coefficients = np.argsort(coef)[-n_top_features:]\n",
    "    negative_coefficients = np.argsort(coef)[:n_top_features]\n",
    "    interesting_coefficients = np.hstack([negative_coefficients, positive_coefficients])\n",
    "   \n",
    "    plt.figure(figsize=(15, 5))\n",
    "    colors = [\"red\" if c < 0 else \"blue\" for c in coef[interesting_coefficients]]\n",
    "    plt.bar(np.arange(2 * n_top_features), coef[interesting_coefficients], color=colors)\n",
    "    feature_names = np.array(feature_names)\n",
    "    plt.xticks(np.arange(0, 2 * n_top_features), feature_names[interesting_coefficients], rotation=60, ha=\"right\");"
   ]
  },
  {
   "cell_type": "code",
   "execution_count": null,
   "metadata": {},
   "outputs": [],
   "source": [
    "model = Pipeline([\n",
    "    ('vect', TfidfVectorizer(stop_words='english', \n",
    "                             ngram_range=(1,1))),\n",
    "    ('clf', LogisticRegression()),\n",
    "])"
   ]
  },
  {
   "cell_type": "code",
   "execution_count": null,
   "metadata": {},
   "outputs": [],
   "source": [
    "texts = df.text.values"
   ]
  },
  {
   "cell_type": "code",
   "execution_count": null,
   "metadata": {},
   "outputs": [],
   "source": [
    "texts[:10]"
   ]
  },
  {
   "cell_type": "code",
   "execution_count": null,
   "metadata": {},
   "outputs": [],
   "source": [
    "y = df.label.values"
   ]
  },
  {
   "cell_type": "code",
   "execution_count": null,
   "metadata": {},
   "outputs": [],
   "source": [
    "X_train, X_test, y_train, y_test = train_test_split(texts, y, test_size=0.2, random_state=123)"
   ]
  },
  {
   "cell_type": "code",
   "execution_count": null,
   "metadata": {},
   "outputs": [],
   "source": [
    "model.fit(X_train, y_train)"
   ]
  },
  {
   "cell_type": "code",
   "execution_count": null,
   "metadata": {},
   "outputs": [],
   "source": [
    "words = model.steps[0][1].get_feature_names()\n",
    "\n",
    "words2 = model2.steps[0][1].get_feature_names()"
   ]
  },
  {
   "cell_type": "code",
   "execution_count": null,
   "metadata": {},
   "outputs": [],
   "source": [
    "X = model.steps[0][1].transform(texts)"
   ]
  },
  {
   "cell_type": "code",
   "execution_count": null,
   "metadata": {},
   "outputs": [],
   "source": [
    "X"
   ]
  },
  {
   "cell_type": "code",
   "execution_count": null,
   "metadata": {},
   "outputs": [],
   "source": [
    "len(words), len(words2)"
   ]
  },
  {
   "cell_type": "code",
   "execution_count": null,
   "metadata": {},
   "outputs": [],
   "source": [
    "plot_roc_curve(model.predict_proba(X_test), y_test)"
   ]
  },
  {
   "cell_type": "code",
   "execution_count": null,
   "metadata": {},
   "outputs": [],
   "source": [
    "confusion_matrix(model.predict(X_test), y_test)"
   ]
  },
  {
   "cell_type": "code",
   "execution_count": null,
   "metadata": {},
   "outputs": [],
   "source": [
    "visualize_coefficients(model.named_steps['clf'], words)"
   ]
  },
  {
   "cell_type": "code",
   "execution_count": null,
   "metadata": {},
   "outputs": [],
   "source": [
    "coefs = model.steps[1][1].coef_[0]\n",
    "model_weights = pd.Series(index=words, data=coefs)\n",
    "model_weights.sort_values()"
   ]
  }
 ],
 "metadata": {
  "anaconda-cloud": {},
  "kernelspec": {
   "display_name": "Python 3",
   "language": "python",
   "name": "python3"
  },
  "language_info": {
   "codemirror_mode": {
    "name": "ipython",
    "version": 3
   },
   "file_extension": ".py",
   "mimetype": "text/x-python",
   "name": "python",
   "nbconvert_exporter": "python",
   "pygments_lexer": "ipython3",
   "version": "3.6.5"
  },
  "nav_menu": {},
  "toc": {
   "base_numbering": 1,
   "nav_menu": {
    "height": "347px",
    "width": "253px"
   },
   "number_sections": false,
   "sideBar": true,
   "skip_h1_title": false,
   "title_cell": "Table of Contents",
   "title_sidebar": "Contents",
   "toc_cell": true,
   "toc_position": {
    "height": "144px",
    "left": "498.767px",
    "right": "57.4667px",
    "top": "336px",
    "width": "235px"
   },
   "toc_section_display": true,
   "toc_window_display": true
  },
  "toc_position": {
   "height": "40px",
   "left": "816px",
   "right": "38.6667px",
   "top": "0px",
   "width": "212px"
  },
  "varInspector": {
   "cols": {
    "lenName": 16,
    "lenType": 16,
    "lenVar": 40
   },
   "kernels_config": {
    "python": {
     "delete_cmd_postfix": "",
     "delete_cmd_prefix": "del ",
     "library": "var_list.py",
     "varRefreshCmd": "print(var_dic_list())"
    },
    "r": {
     "delete_cmd_postfix": ") ",
     "delete_cmd_prefix": "rm(",
     "library": "var_list.r",
     "varRefreshCmd": "cat(var_dic_list()) "
    }
   },
   "types_to_exclude": [
    "module",
    "function",
    "builtin_function_or_method",
    "instance",
    "_Feature"
   ],
   "window_display": false
  }
 },
 "nbformat": 4,
 "nbformat_minor": 1
}
